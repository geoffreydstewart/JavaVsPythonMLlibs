{
 "cells": [
  {
   "cell_type": "markdown",
   "metadata": {},
   "source": [
    "## This demonstrates Tribuo regression for comparison with scikit-learn regression, although these resulting regression models were not used in the final comparisons"
   ]
  },
  {
   "cell_type": "code",
   "execution_count": 1,
   "metadata": {},
   "outputs": [],
   "source": [
    "%jars ../../jars/tribuo-json-4.3.0-SNAPSHOT-jar-with-dependencies.jar\n",
    "%jars ../../jars/tribuo-regression-liblinear-4.3.0-SNAPSHOT-jar-with-dependencies.jar\n",
    "%jars ../../jars/tribuo-regression-sgd-4.3.0-SNAPSHOT-jar-with-dependencies.jar\n",
    "%jars ../../jars/tribuo-regression-xgboost-4.3.0-SNAPSHOT-jar-with-dependencies.jar\n",
    "%jars ../../jars/tribuo-regression-tree-4.3.0-SNAPSHOT-jar-with-dependencies.jar"
   ]
  },
  {
   "cell_type": "code",
   "execution_count": 2,
   "metadata": {},
   "outputs": [],
   "source": [
    "import java.nio.file.Paths;\n",
    "import java.nio.file.Files;\n",
    "import java.util.logging.Level;\n",
    "import java.util.logging.Logger;"
   ]
  },
  {
   "cell_type": "code",
   "execution_count": 3,
   "metadata": {},
   "outputs": [],
   "source": [
    "import org.tribuo.*;\n",
    "import org.tribuo.data.csv.CSVLoader;\n",
    "import org.tribuo.datasource.ListDataSource;\n",
    "import org.tribuo.evaluation.TrainTestSplitter;\n",
    "import org.tribuo.math.optimisers.*;\n",
    "import org.tribuo.regression.*;\n",
    "import org.tribuo.regression.evaluation.*;\n",
    "import org.tribuo.regression.liblinear.LibLinearRegressionTrainer;\n",
    "import org.tribuo.regression.sgd.RegressionObjective;\n",
    "import org.tribuo.regression.sgd.linear.LinearSGDTrainer;\n",
    "import org.tribuo.regression.sgd.objectives.SquaredLoss;\n",
    "import org.tribuo.regression.rtree.CARTRegressionTrainer;\n",
    "import org.tribuo.util.Util;"
   ]
  },
  {
   "cell_type": "code",
   "execution_count": 4,
   "metadata": {},
   "outputs": [],
   "source": [
    "var regressionFactory = new RegressionFactory();\n",
    "var csvLoader = new CSVLoader<>(regressionFactory);"
   ]
  },
  {
   "cell_type": "code",
   "execution_count": 5,
   "metadata": {},
   "outputs": [
    {
     "name": "stdout",
     "output_type": "stream",
     "text": [
      "Training data size = 651397, number of features = 2\n",
      "Testing data size = 162850, number of features = 2\n"
     ]
    }
   ],
   "source": [
    "// This dataset is generated in the notebook: scikit-learn Regressor Example - Data Cleanup\n",
    "var oceanSource = csvLoader.loadDataSource(Paths.get(\"../../data/cleanedBottle.csv\"), \"temp\");\n",
    "var splitter = new TrainTestSplitter<>(oceanSource, 0.8f, 0L);\n",
    "Dataset<Regressor> trainData = new MutableDataset<>(splitter.getTrain());\n",
    "Dataset<Regressor> evalData = new MutableDataset<>(splitter.getTest());\n",
    "//testData\n",
    "System.out.println(String.format(\"Training data size = %d, number of features = %d\",trainData.size(),trainData.getFeatureMap().size()));\n",
    "System.out.println(String.format(\"Testing data size = %d, number of features = %d\",evalData.size(),evalData.getFeatureMap().size()));\n"
   ]
  },
  {
   "cell_type": "code",
   "execution_count": 6,
   "metadata": {},
   "outputs": [],
   "source": [
    "public Model<Regressor> train(String name, Trainer<Regressor> trainer, Dataset<Regressor> trainData) {\n",
    "    // Train the model\n",
    "    var startTime = System.currentTimeMillis();\n",
    "    Model<Regressor> model = trainer.train(trainData);\n",
    "    var endTime = System.currentTimeMillis();\n",
    "    System.out.println(\"Training \" + name + \" took \" + Util.formatDuration(startTime,endTime));\n",
    "    // Evaluate the model on the training data\n",
    "    // This is a useful debugging tool to check the model actually learned something\n",
    "    RegressionEvaluator eval = new RegressionEvaluator();\n",
    "    var evaluation = eval.evaluate(model,trainData);\n",
    "    // We create a dimension here to aid pulling out the appropriate statistics.\n",
    "    // You can also produce the String directly by calling \"evaluation.toString()\"\n",
    "    var dimension = new Regressor(\"DIM-0\",Double.NaN);\n",
    "    System.out.printf(\"Evaluation (train):%n  RMSE %f%n  MAE %f%n  R^2 %f%n\",\n",
    "            evaluation.rmse(dimension), evaluation.mae(dimension), evaluation.r2(dimension));\n",
    "    return model;\n",
    "}\n"
   ]
  },
  {
   "cell_type": "code",
   "execution_count": 7,
   "metadata": {},
   "outputs": [],
   "source": [
    "public void evaluate(Model<Regressor> model, Dataset<Regressor> testData) {\n",
    "    // Evaluate the model on the test data\n",
    "    RegressionEvaluator eval = new RegressionEvaluator();\n",
    "    var evaluation = eval.evaluate(model,testData);\n",
    "    // We create a dimension here to aid pulling out the appropriate statistics.\n",
    "    // You can also produce the String directly by calling \"evaluation.toString()\"\n",
    "    var dimension = new Regressor(\"DIM-0\",Double.NaN);\n",
    "    System.out.printf(\"Evaluation (test):%n  RMSE %f%n  MAE %f%n  R^2 %f%n\",\n",
    "            evaluation.rmse(dimension), evaluation.mae(dimension), evaluation.r2(dimension));\n",
    "}\n"
   ]
  },
  {
   "cell_type": "code",
   "execution_count": null,
   "metadata": {},
   "outputs": [],
   "source": []
  },
  {
   "cell_type": "code",
   "execution_count": 8,
   "metadata": {},
   "outputs": [],
   "source": [
    "var lrsgd = new LinearSGDTrainer(\n",
    "    new SquaredLoss(), // loss function\n",
    "    SGD.getLinearDecaySGD(0.01), // gradient descent algorithm\n",
    "    5,                // number of training epochs\n",
    "    trainData.size()/4,// logging interval\n",
    "    1,                 // minibatch size\n",
    "    1L                 // RNG seed\n",
    ");\n",
    "\n",
    "var lrada = new LinearSGDTrainer(\n",
    "    new SquaredLoss(),\n",
    "    new AdaGrad(0.01),\n",
    "    5,\n",
    "    trainData.size()/4,\n",
    "    1,\n",
    "    1L \n",
    ");\n",
    "\n",
    "var lr = new LibLinearRegressionTrainer();\n",
    "\n",
    "var cart = new CARTRegressionTrainer(6);"
   ]
  },
  {
   "cell_type": "code",
   "execution_count": 9,
   "metadata": {},
   "outputs": [
    {
     "name": "stdout",
     "output_type": "stream",
     "text": [
      "LibLinearTrainer(solver=L2R_L2LOSS_SVR,cost=1.0,terminationCriterion=0.1,maxIterations=1000,regression-epsilon=0.1,seed=12345)\n",
      "LinearSGDTrainer(objective=SquaredLoss,optimiser=SGD(type=LinearDecay,initialLearningRate=0.01),epochs=5,minibatchSize=1,seed=1)\n",
      "LinearSGDTrainer(objective=SquaredLoss,optimiser=AdaGrad(initialLearningRate=0.01,epsilon=1.0E-6,initialValue=0.0),epochs=5,minibatchSize=1,seed=1)\n",
      "CARTRegressionTrainer(maxDepth=6,minChildWeight=5.0,minImpurityDecrease=0.0,fractionFeaturesInSplit=1.0,useRandomSplitPoints=false,impurity=MeanSquaredError,seed=12345)\n"
     ]
    }
   ],
   "source": [
    "System.out.println(lr.toString());\n",
    "System.out.println(lrsgd.toString());\n",
    "System.out.println(lrada.toString());\n",
    "System.out.println(cart.toString());"
   ]
  },
  {
   "cell_type": "code",
   "execution_count": null,
   "metadata": {},
   "outputs": [],
   "source": []
  },
  {
   "cell_type": "code",
   "execution_count": 10,
   "metadata": {},
   "outputs": [
    {
     "name": "stdout",
     "output_type": "stream",
     "text": [
      "Training Linear Regression took (00:00:00:610)\n",
      "Evaluation (train):\n",
      "  RMSE 3.068896\n",
      "  MAE 2.263334\n",
      "  R^2 0.472028\n"
     ]
    }
   ],
   "source": [
    "var lrModel = train(\"Linear Regression\",lr,trainData);"
   ]
  },
  {
   "cell_type": "code",
   "execution_count": 11,
   "metadata": {},
   "outputs": [
    {
     "name": "stdout",
     "output_type": "stream",
     "text": [
      "Evaluation (test):\n",
      "  RMSE 3.073997\n",
      "  MAE 2.265460\n",
      "  R^2 0.472003\n"
     ]
    }
   ],
   "source": [
    "evaluate(lrModel,evalData);"
   ]
  },
  {
   "cell_type": "code",
   "execution_count": null,
   "metadata": {},
   "outputs": [],
   "source": []
  },
  {
   "cell_type": "code",
   "execution_count": 12,
   "metadata": {},
   "outputs": [
    {
     "name": "stdout",
     "output_type": "stream",
     "text": [
      "Training Linear Regression (SGD) took (00:00:02:541)\n",
      "Evaluation (train):\n",
      "  RMSE 10.157049\n",
      "  MAE 9.372090\n",
      "  R^2 -4.783377\n"
     ]
    }
   ],
   "source": [
    "var lrsgdModel = train(\"Linear Regression (SGD)\",lrsgd,trainData);"
   ]
  },
  {
   "cell_type": "code",
   "execution_count": 13,
   "metadata": {},
   "outputs": [
    {
     "name": "stdout",
     "output_type": "stream",
     "text": [
      "Evaluation (test):\n",
      "  RMSE 10.155645\n",
      "  MAE 9.367787\n",
      "  R^2 -4.762875\n"
     ]
    }
   ],
   "source": [
    "evaluate(lrsgdModel,evalData);"
   ]
  },
  {
   "cell_type": "code",
   "execution_count": null,
   "metadata": {},
   "outputs": [],
   "source": []
  },
  {
   "cell_type": "code",
   "execution_count": 14,
   "metadata": {},
   "outputs": [
    {
     "name": "stdout",
     "output_type": "stream",
     "text": [
      "Training Linear Regression (AdaGrad) took (00:00:02:890)\n",
      "Evaluation (train):\n",
      "  RMSE 3.052163\n",
      "  MAE 2.284762\n",
      "  R^2 0.477770\n",
      "Evaluation (test):\n",
      "  RMSE 3.056912\n",
      "  MAE 2.286477\n",
      "  R^2 0.477856\n"
     ]
    }
   ],
   "source": [
    "var lradaModel = train(\"Linear Regression (AdaGrad)\",lrada,trainData);\n",
    "evaluate(lradaModel,evalData);"
   ]
  },
  {
   "cell_type": "code",
   "execution_count": null,
   "metadata": {},
   "outputs": [],
   "source": []
  },
  {
   "cell_type": "code",
   "execution_count": 15,
   "metadata": {},
   "outputs": [],
   "source": [
    "// var cartModel = train(\"CART\",cart,trainData);\n",
    "// evaluate(cartModel,evalData);"
   ]
  },
  {
   "cell_type": "code",
   "execution_count": null,
   "metadata": {},
   "outputs": [],
   "source": []
  }
 ],
 "metadata": {
  "kernelspec": {
   "display_name": "Java",
   "language": "java",
   "name": "java"
  },
  "language_info": {
   "codemirror_mode": "java",
   "file_extension": ".jshell",
   "mimetype": "text/x-java-source",
   "name": "Java",
   "pygments_lexer": "java",
   "version": "11.0.12+8-LTS-237"
  }
 },
 "nbformat": 4,
 "nbformat_minor": 4
}
