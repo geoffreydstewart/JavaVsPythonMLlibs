{
 "cells": [
  {
   "cell_type": "markdown",
   "metadata": {},
   "source": [
    "## This demonstrates Tribuo regression for comparison with scikit-learn regression"
   ]
  },
  {
   "cell_type": "code",
   "execution_count": 1,
   "metadata": {},
   "outputs": [],
   "source": [
    "%jars ../../jars/tribuo-regression-liblinear-4.2.1-jar-with-dependencies.jar\n",
    "%jars ../../jars/tribuo-regression-sgd-4.2.1-jar-with-dependencies.jar\n",
    "%jars ../../jars/tribuo-regression-xgboost-4.2.1-jar-with-dependencies.jar\n",
    "%jars ../../jars/tribuo-regression-tree-4.2.1-jar-with-dependencies.jar\n",
    "%jars ../../jars/tribuo-regression-libsvm-4.2.1-jar-with-dependencies.jar\n",
    "%jars ../../jars/tribuo-regression-xgboost-4.2.1-jar-with-dependencies.jar"
   ]
  },
  {
   "cell_type": "code",
   "execution_count": 2,
   "metadata": {},
   "outputs": [],
   "source": [
    "import java.nio.file.Paths;\n",
    "import java.nio.file.Files;\n",
    "import java.util.logging.Level;\n",
    "import java.util.logging.Logger;"
   ]
  },
  {
   "cell_type": "code",
   "execution_count": 3,
   "metadata": {},
   "outputs": [],
   "source": [
    "import org.tribuo.*;\n",
    "import org.tribuo.data.csv.CSVLoader;\n",
    "import org.tribuo.datasource.ListDataSource;\n",
    "import org.tribuo.evaluation.TrainTestSplitter;\n",
    "import org.tribuo.math.optimisers.*;\n",
    "import org.tribuo.regression.*;\n",
    "import org.tribuo.regression.evaluation.*;\n",
    "import org.tribuo.regression.liblinear.LibLinearRegressionTrainer;\n",
    "import org.tribuo.regression.sgd.RegressionObjective;\n",
    "import org.tribuo.regression.liblinear.LinearRegressionType;\n",
    "import org.tribuo.regression.liblinear.LinearRegressionType.LinearType;\n",
    "import org.tribuo.regression.sgd.linear.LinearSGDTrainer;\n",
    "import org.tribuo.regression.sgd.objectives.SquaredLoss;\n",
    "import org.tribuo.regression.rtree.CARTRegressionTrainer;\n",
    "import org.tribuo.regression.libsvm.LibSVMRegressionTrainer;\n",
    "import org.tribuo.regression.libsvm.SVMRegressionType.SVMMode;\n",
    "import org.tribuo.regression.xgboost.XGBoostRegressionTrainer;\n",
    "import org.tribuo.util.Util;"
   ]
  },
  {
   "cell_type": "code",
   "execution_count": 4,
   "metadata": {},
   "outputs": [],
   "source": [
    "var regressionFactory = new RegressionFactory();\n",
    "var csvLoader = new CSVLoader<>(regressionFactory);"
   ]
  },
  {
   "cell_type": "code",
   "execution_count": 5,
   "metadata": {},
   "outputs": [
    {
     "name": "stdout",
     "output_type": "stream",
     "text": [
      "Loading took (00:00:00:611)\n",
      "Splitting took (00:00:28:025)\n",
      "Training data size = 30816, number of features = 1186\n",
      "Testing data size = 7705, number of features = 1186\n"
     ]
    }
   ],
   "source": [
    "var startTime = System.currentTimeMillis();\n",
    "// This dataset is prepared in the notebook: scikit-learn Regressor - Data Cleanup\n",
    "// unzip cleanedCars.zip\n",
    "// WARNING! This dataset takes a very long time to load.\n",
    "// This issue is now resolved on the main branch, which looks like will be version 4.2\n",
    "var carsSource = csvLoader.loadDataSource(Paths.get(\"../../data/cleanedCars.csv\"), \"price_usd\");\n",
    "var endTime = System.currentTimeMillis();\n",
    "System.out.println(\"Loading took \" + Util.formatDuration(startTime,endTime));\n",
    "var startTime = System.currentTimeMillis();\n",
    "var splitter = new TrainTestSplitter<>(carsSource, 0.8f, 0L);\n",
    "var endTime = System.currentTimeMillis();\n",
    "System.out.println(\"Splitting took \" + Util.formatDuration(startTime,endTime));\n",
    "\n",
    "Dataset<Regressor> trainData = new MutableDataset<>(splitter.getTrain());\n",
    "Dataset<Regressor> evalData = new MutableDataset<>(splitter.getTest());\n",
    "\n",
    "System.out.println(String.format(\"Training data size = %d, number of features = %d\",trainData.size(),trainData.getFeatureMap().size()));\n",
    "System.out.println(String.format(\"Testing data size = %d, number of features = %d\",evalData.size(),evalData.getFeatureMap().size()));\n"
   ]
  },
  {
   "cell_type": "code",
   "execution_count": 6,
   "metadata": {},
   "outputs": [],
   "source": [
    "public Model<Regressor> train(String name, Trainer<Regressor> trainer, Dataset<Regressor> trainData) {\n",
    "    // Train the model\n",
    "    var startTime = System.currentTimeMillis();\n",
    "    Model<Regressor> model = trainer.train(trainData);\n",
    "    var endTime = System.currentTimeMillis();\n",
    "    System.out.println(\"Training \" + name + \" took \" + Util.formatDuration(startTime,endTime));\n",
    "    // Evaluate the model on the training data\n",
    "    // This is a useful debugging tool to check the model actually learned something\n",
    "    RegressionEvaluator eval = new RegressionEvaluator();\n",
    "    var evaluation = eval.evaluate(model,trainData);\n",
    "    // We create a dimension here to aid pulling out the appropriate statistics.\n",
    "    // You can also produce the String directly by calling \"evaluation.toString()\"\n",
    "    var dimension = new Regressor(\"DIM-0\",Double.NaN);\n",
    "    // Don't report training scores\n",
    "    //System.out.printf(\"Evaluation (train):%n  RMSE %f%n  MAE %f%n  R^2 %f%n\",\n",
    "    //        evaluation.rmse(dimension), evaluation.mae(dimension), evaluation.r2(dimension));\n",
    "    return model;\n",
    "}\n"
   ]
  },
  {
   "cell_type": "code",
   "execution_count": 7,
   "metadata": {},
   "outputs": [],
   "source": [
    "public void evaluate(Model<Regressor> model, Dataset<Regressor> testData) {\n",
    "    // Evaluate the model on the test data\n",
    "    RegressionEvaluator eval = new RegressionEvaluator();\n",
    "    var evaluation = eval.evaluate(model,testData);\n",
    "    // We create a dimension here to aid pulling out the appropriate statistics.\n",
    "    // You can also produce the String directly by calling \"evaluation.toString()\"\n",
    "    var dimension = new Regressor(\"DIM-0\",Double.NaN);\n",
    "    System.out.printf(\"Evaluation (test):%n  RMSE: %f%n  MAE:  %f%n  R^2:  %f%n\",\n",
    "            evaluation.rmse(dimension), evaluation.mae(dimension), evaluation.r2(dimension));\n",
    "}\n"
   ]
  },
  {
   "cell_type": "code",
   "execution_count": 8,
   "metadata": {},
   "outputs": [],
   "source": [
    "var lrsgd = new LinearSGDTrainer(\n",
    "    new SquaredLoss(),           // loss function\n",
    "    SGD.getLinearDecaySGD(0.01), // gradient descent algorithm\n",
    "    50,                           // number of training epochs\n",
    "    trainData.size()/4,          // logging interval\n",
    "    1,                           // minibatch size\n",
    "    1L                           // RNG seed\n",
    ");\n",
    "\n",
    "//var lr = new LibLinearRegressionTrainer();\n",
    "\n",
    "var lr = new LibLinearRegressionTrainer(\n",
    "    new LinearRegressionType(LinearType.L2R_L2LOSS_SVR),\n",
    "    1.0,    // cost penalty\n",
    "    1000,   // max iterations\n",
    "    0.1,    // termination criteria\n",
    "    0.1     // epsilon\n",
    ");\n",
    "\n",
    "var cart = new CARTRegressionTrainer(10);\n",
    "\n",
    "var xgb = new XGBoostRegressionTrainer(75);\n"
   ]
  },
  {
   "cell_type": "code",
   "execution_count": 9,
   "metadata": {},
   "outputs": [
    {
     "name": "stdout",
     "output_type": "stream",
     "text": [
      "LinearSGDTrainer(objective=SquaredLoss,optimiser=SGD(type=LinearDecay,initialLearningRate=0.01),epochs=50,minibatchSize=1,seed=1)\n",
      "LibLinearTrainer(solver=L2R_L2LOSS_SVR,cost=1.0,terminationCriterion=0.1,maxIterations=1000,regression-epsilon=0.1)\n",
      "CARTRegressionTrainer(maxDepth=10,minChildWeight=5.0,minImpurityDecrease=0.0,fractionFeaturesInSplit=1.0,useRandomSplitPoints=false,impurity=MeanSquaredError,seed=12345)\n",
      "XGBoostTrainer(numTrees=75,parameters{colsample_bytree=1.0, tree_method=auto, seed=12345, max_depth=6, booster=gbtree, objective=reg:squarederror, lambda=1.0, eta=0.3, nthread=4, alpha=0.0, subsample=1.0, gamma=0.0, min_child_weight=1.0, verbosity=0})\n"
     ]
    }
   ],
   "source": [
    "System.out.println(lrsgd.toString());\n",
    "System.out.println(lr.toString());\n",
    "System.out.println(cart.toString());\n",
    "System.out.println(xgb.toString());"
   ]
  },
  {
   "cell_type": "code",
   "execution_count": null,
   "metadata": {},
   "outputs": [],
   "source": []
  },
  {
   "cell_type": "code",
   "execution_count": 10,
   "metadata": {},
   "outputs": [
    {
     "name": "stdout",
     "output_type": "stream",
     "text": [
      "Training Linear Regression (SGD) took (00:00:09:399)\n"
     ]
    }
   ],
   "source": [
    "var lrsgdModel = train(\"Linear Regression (SGD)\", lrsgd, trainData);\n",
    "\n",
    "// run 1\n",
    "// time 10.59 s\n",
    "\n",
    "// run 2\n",
    "// time 9.96 s\n",
    "\n",
    "// run 3\n",
    "// time 9.11 s"
   ]
  },
  {
   "cell_type": "code",
   "execution_count": 11,
   "metadata": {},
   "outputs": [
    {
     "name": "stdout",
     "output_type": "stream",
     "text": [
      "Evaluation (test):\n",
      "  RMSE: NaN\n",
      "  MAE:  NaN\n",
      "  R^2:  NaN\n"
     ]
    }
   ],
   "source": [
    "evaluate(lrsgdModel,evalData);\n",
    "\n",
    "// run 1\n",
    "//  RMSE: NaN\n",
    "//  MAE:  NaN\n",
    "//  R^2:  NaN\n",
    "\n",
    "// run 2\n",
    "//  RMSE: NaN\n",
    "//  MAE:  NaN\n",
    "//  R^2:  NaN\n",
    "\n",
    "// run 3\n",
    "//  RMSE: NaN\n",
    "//  MAE:  NaN\n",
    "//  R^2:  NaN"
   ]
  },
  {
   "cell_type": "code",
   "execution_count": null,
   "metadata": {},
   "outputs": [],
   "source": []
  },
  {
   "cell_type": "code",
   "execution_count": 12,
   "metadata": {},
   "outputs": [
    {
     "name": "stdout",
     "output_type": "stream",
     "text": [
      "Training Linear Regression took (00:00:06:845)\n"
     ]
    }
   ],
   "source": [
    "var lrModel = train(\"Linear Regression\",lr,trainData);\n",
    "// run 1\n",
    "// time 6.60 s\n",
    "\n",
    "// run 2\n",
    "// time 6.96 s\n",
    "\n",
    "// run 3\n",
    "// time 6.92 s"
   ]
  },
  {
   "cell_type": "code",
   "execution_count": 13,
   "metadata": {},
   "outputs": [
    {
     "name": "stdout",
     "output_type": "stream",
     "text": [
      "Evaluation (test):\n",
      "  RMSE: 4125.628552\n",
      "  MAE:  2624.556902\n",
      "  R^2:  0.594143\n"
     ]
    }
   ],
   "source": [
    "evaluate(lrModel,evalData);\n",
    "\n",
    "// run 1\n",
    "//   RMSE: 4125.63\n",
    "//   MAE:  2624.56\n",
    "//   R^2:  0.59\n",
    "\n",
    "// run 2\n",
    "//  RMSE: 4125.63\n",
    "//  MAE:  2624.56\n",
    "//  R^2:  0.59\n",
    "\n",
    "// run 3\n",
    "//  RMSE: 4125.63\n",
    "//  MAE:  2624.56\n",
    "//  R^2:  0.59"
   ]
  },
  {
   "cell_type": "code",
   "execution_count": null,
   "metadata": {},
   "outputs": [],
   "source": []
  },
  {
   "cell_type": "code",
   "execution_count": 14,
   "metadata": {},
   "outputs": [
    {
     "name": "stdout",
     "output_type": "stream",
     "text": [
      "Training CART took (00:00:08:102)\n"
     ]
    }
   ],
   "source": [
    "var cartModel = train(\"CART\",cart,trainData);\n",
    "// run 1\n",
    "// time 7.41 s\n",
    "\n",
    "// run 2\n",
    "// time 7.59 s\n",
    "\n",
    "// run 3\n",
    "// time 8.07 s"
   ]
  },
  {
   "cell_type": "code",
   "execution_count": 15,
   "metadata": {},
   "outputs": [
    {
     "name": "stdout",
     "output_type": "stream",
     "text": [
      "Evaluation (test):\n",
      "  RMSE: 2453.700424\n",
      "  MAE:  1469.942039\n",
      "  R^2:  0.856439\n"
     ]
    }
   ],
   "source": [
    "evaluate(cartModel,evalData);\n",
    "// run 1\n",
    "//  RMSE: 2453.70\n",
    "//  MAE:  1469.94\n",
    "//  R^2:  0.86\n",
    "\n",
    "// run 2\n",
    "//  RMSE: 2453.70\n",
    "//  MAE:  1469.94\n",
    "//  R^2:  0.86\n",
    "\n",
    "// run 3\n",
    "//  RMSE: 2453.70\n",
    "//  MAE:  1469.94\n",
    "//  R^2:  0.86"
   ]
  },
  {
   "cell_type": "code",
   "execution_count": null,
   "metadata": {},
   "outputs": [],
   "source": []
  },
  {
   "cell_type": "code",
   "execution_count": 16,
   "metadata": {},
   "outputs": [
    {
     "name": "stdout",
     "output_type": "stream",
     "text": [
      "Training XGBoost took (00:02:17:326)\n"
     ]
    }
   ],
   "source": [
    "var xgbModel = train(\"XGBoost\", xgb, trainData);\n",
    "// run 1\n",
    "// time 2min 31s\n",
    "\n",
    "// run 2\n",
    "// time 2min 29s\n",
    "\n",
    "// run 3\n",
    "// time 2min 26s"
   ]
  },
  {
   "cell_type": "code",
   "execution_count": 17,
   "metadata": {},
   "outputs": [
    {
     "name": "stdout",
     "output_type": "stream",
     "text": [
      "Evaluation (test):\n",
      "  RMSE: 1883.167266\n",
      "  MAE:  1164.050417\n",
      "  R^2:  0.915439\n"
     ]
    }
   ],
   "source": [
    "evaluate(xgbModel, evalData);\n",
    "// run 1\n",
    "//  RMSE: 1883.17\n",
    "//  MAE:  1164.05\n",
    "//  R^2:  0.92\n",
    "\n",
    "// run 2\n",
    "//  RMSE: 1883.17\n",
    "//  MAE:  1164.05\n",
    "//  R^2:  0.92\n",
    "\n",
    "// run 3\n",
    "//  RMSE: 1883.17\n",
    "//  MAE:  1164.05\n",
    "//  R^2:  0.92"
   ]
  },
  {
   "cell_type": "code",
   "execution_count": null,
   "metadata": {},
   "outputs": [],
   "source": []
  },
  {
   "cell_type": "code",
   "execution_count": null,
   "metadata": {},
   "outputs": [],
   "source": []
  },
  {
   "cell_type": "code",
   "execution_count": 18,
   "metadata": {},
   "outputs": [],
   "source": [
    "// Setup parameters for SVR\n",
    "\n",
    "import com.oracle.labs.mlrg.olcut.config.Option;\n",
    "import com.oracle.labs.mlrg.olcut.config.Options;\n",
    "import org.tribuo.common.libsvm.KernelType;\n",
    "import org.tribuo.common.libsvm.SVMParameters;\n",
    "import org.tribuo.regression.libsvm.SVMRegressionType;\n",
    "\n",
    "public class LibSVMOptions implements Options {\n",
    "    @Override\n",
    "    public String getOptionsDescription() {\n",
    "        return \"Trains and tests a LibSVM regression model on the specified datasets.\";\n",
    "    }\n",
    "    \n",
    "    @Option(longName=\"coefficient\",usage=\"Intercept in kernel function.\")\n",
    "    public double coeff = 1.0;\n",
    "    @Option(charName='d',longName=\"degree\",usage=\"Degree in polynomial kernel.\")\n",
    "    public int degree = 3;\n",
    "    @Option(charName='g',longName=\"gamma\",usage=\"Gamma value in kernel function.\")\n",
    "    public double gamma = 0.0;\n",
    "    @Option(charName='k',longName=\"kernel\",usage=\"Type of SVM kernel.\")\n",
    "    public KernelType kernelType = KernelType.RBF;\n",
    "    @Option(charName='t',longName=\"type\",usage=\"Type of SVM.\")\n",
    "    public SVMRegressionType.SVMMode svmType = SVMMode.EPSILON_SVR;\n",
    "    @Option(longName=\"standardize\",usage=\"Standardize the regression outputs internally to the SVM\")\n",
    "    public boolean standardize = false;\n",
    "}"
   ]
  },
  {
   "cell_type": "code",
   "execution_count": 19,
   "metadata": {},
   "outputs": [],
   "source": [
    "// setup for SVR trainer\n",
    "\n",
    "var svnOptions = new LibSVMOptions();\n",
    "var parameters = new SVMParameters<>(new SVMRegressionType(svnOptions.svmType), \n",
    "                                                                    svnOptions.kernelType);\n",
    "parameters.setGamma(0.0);\n",
    "parameters.setCoeff(1.0);\n",
    "parameters.setDegree(3);\n",
    "var svr = new LibSVMRegressionTrainer(parameters, false);"
   ]
  },
  {
   "cell_type": "code",
   "execution_count": null,
   "metadata": {},
   "outputs": [],
   "source": []
  }
 ],
 "metadata": {
  "kernelspec": {
   "display_name": "Java",
   "language": "java",
   "name": "java"
  },
  "language_info": {
   "codemirror_mode": "java",
   "file_extension": ".jshell",
   "mimetype": "text/x-java-source",
   "name": "Java",
   "pygments_lexer": "java",
   "version": "11.0.12+8-LTS-237"
  }
 },
 "nbformat": 4,
 "nbformat_minor": 4
}
