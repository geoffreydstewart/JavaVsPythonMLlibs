{
 "cells": [
  {
   "cell_type": "markdown",
   "metadata": {},
   "source": [
    "## This demonstrates scikit-learn regression for comparison with Tribuo regression"
   ]
  },
  {
   "cell_type": "code",
   "execution_count": 1,
   "metadata": {},
   "outputs": [],
   "source": [
    "import pandas as pd\n",
    "import numpy as np\n",
    "from sklearn.model_selection import train_test_split\n",
    "from sklearn import preprocessing\n",
    "from sklearn.linear_model import SGDRegressor\n",
    "from sklearn.linear_model import LinearRegression\n",
    "from sklearn.tree import DecisionTreeRegressor\n",
    "from sklearn.ensemble import RandomForestRegressor\n",
    "from sklearn.svm import SVR\n",
    "from sklearn.metrics import mean_squared_error\n",
    "from sklearn.metrics import mean_absolute_error\n",
    "from sklearn.metrics import r2_score"
   ]
  },
  {
   "cell_type": "code",
   "execution_count": 2,
   "metadata": {},
   "outputs": [],
   "source": [
    "# This dataset is prepared in the notebook: scikit-learn Regressor - Data Cleanup\n",
    "# unzip cleanedCars.zip\n",
    "df = pd.read_csv('data/cleanedCars.csv')\n",
    "# print(df)"
   ]
  },
  {
   "cell_type": "code",
   "execution_count": 3,
   "metadata": {},
   "outputs": [
    {
     "name": "stdout",
     "output_type": "stream",
     "text": [
      "Training data size = 30816, number of features = 1186\n",
      "Testing data size = 7705, number of features = 1186\n"
     ]
    }
   ],
   "source": [
    "df_X = df.drop(['price_usd'], axis=1)\n",
    "df_y = pd.DataFrame(df[['price_usd']])\n",
    "\n",
    "\n",
    "X_train, X_test, y_train, y_test = train_test_split(df_X.values, df_y.values, test_size=0.2, random_state=1)\n",
    "print('Training data size = %d, number of features = %d' % (len(X_train), len(df.columns) - 1))\n",
    "print('Testing data size = %d, number of features = %d' % (len(X_test), len(df.columns) - 1))"
   ]
  },
  {
   "cell_type": "code",
   "execution_count": 4,
   "metadata": {},
   "outputs": [],
   "source": [
    "def evaluate(actual, predicted):\n",
    "    print('Evaluation (test):')\n",
    "    print('  RMSE: %.2f' % mean_squared_error(actual, predicted, squared=False))\n",
    "    print('  MAE:  %.2f' % mean_absolute_error(actual, predicted))\n",
    "    print('  R^2:  %.2f' % r2_score(actual, predicted))"
   ]
  },
  {
   "cell_type": "code",
   "execution_count": 5,
   "metadata": {},
   "outputs": [],
   "source": [
    "sgd = SGDRegressor(learning_rate='constant', eta0=0.01)\n",
    "\n",
    "lr = LinearRegression()\n",
    "\n",
    "cart = DecisionTreeRegressor(max_depth=10)\n",
    "\n",
    "rfr = RandomForestRegressor(n_estimators=150, criterion='mse', random_state=1, n_jobs=-1)"
   ]
  },
  {
   "cell_type": "code",
   "execution_count": null,
   "metadata": {},
   "outputs": [],
   "source": []
  },
  {
   "cell_type": "code",
   "execution_count": 6,
   "metadata": {},
   "outputs": [
    {
     "name": "stdout",
     "output_type": "stream",
     "text": [
      "CPU times: user 815 ms, sys: 12.8 ms, total: 828 ms\n",
      "Wall time: 901 ms\n"
     ]
    },
    {
     "data": {
      "text/plain": [
       "SGDRegressor(learning_rate='constant')"
      ]
     },
     "execution_count": 6,
     "metadata": {},
     "output_type": "execute_result"
    }
   ],
   "source": [
    "%time sgd.fit(X_train, y_train.ravel())\n",
    "\n",
    "# run 1\n",
    "# time:  0.90s\n",
    "\n",
    "# run 2\n",
    "# time:  \n",
    "\n",
    "# run 3\n",
    "# time:  "
   ]
  },
  {
   "cell_type": "code",
   "execution_count": 7,
   "metadata": {},
   "outputs": [
    {
     "name": "stdout",
     "output_type": "stream",
     "text": [
      "Evaluation (test):\n",
      "  RMSE: 639742832053393162240.00\n",
      "  MAE:  559204384222139645952.00\n",
      "  R^2:  -9726370381207040741037385365585920.00\n"
     ]
    }
   ],
   "source": [
    "predicted = sgd.predict(X_test)\n",
    "evaluate(y_test, predicted)\n",
    "\n",
    "# run 1\n",
    "#\n",
    "\n",
    "# run 2\n",
    "# \n",
    "\n",
    "# run 3\n",
    "# "
   ]
  },
  {
   "cell_type": "code",
   "execution_count": null,
   "metadata": {},
   "outputs": [],
   "source": []
  },
  {
   "cell_type": "code",
   "execution_count": 8,
   "metadata": {},
   "outputs": [
    {
     "name": "stdout",
     "output_type": "stream",
     "text": [
      "CPU times: user 8.7 s, sys: 392 ms, total: 9.09 s\n",
      "Wall time: 5.6 s\n"
     ]
    }
   ],
   "source": [
    "%time lr = lr.fit(X_train,y_train)\n",
    "# run 1\n",
    "# time:  5.60s\n",
    "\n",
    "# run 2\n",
    "# time:  \n",
    "\n",
    "# run 3\n",
    "# time:  "
   ]
  },
  {
   "cell_type": "code",
   "execution_count": 9,
   "metadata": {},
   "outputs": [
    {
     "name": "stdout",
     "output_type": "stream",
     "text": [
      "Evaluation (test):\n",
      "  RMSE: 2845.83\n",
      "  MAE:  1728.60\n",
      "  R^2:  0.81\n"
     ]
    }
   ],
   "source": [
    "predicted = lr.predict(X_test)\n",
    "evaluate(y_test, predicted)\n",
    "\n",
    "# run 1\n",
    "#\n",
    "\n",
    "# run 2\n",
    "# \n",
    "\n",
    "# run 3\n",
    "#"
   ]
  },
  {
   "cell_type": "code",
   "execution_count": null,
   "metadata": {},
   "outputs": [],
   "source": []
  },
  {
   "cell_type": "code",
   "execution_count": 10,
   "metadata": {},
   "outputs": [
    {
     "name": "stdout",
     "output_type": "stream",
     "text": [
      "CPU times: user 2.14 s, sys: 67.3 ms, total: 2.2 s\n",
      "Wall time: 2.25 s\n"
     ]
    }
   ],
   "source": [
    "%time cart = cart.fit(X_train,y_train)\n",
    "# run 1\n",
    "# time:  2.25s\n",
    "\n",
    "# run 2\n",
    "# time:  \n",
    "\n",
    "# run 3\n",
    "# time:  "
   ]
  },
  {
   "cell_type": "code",
   "execution_count": 11,
   "metadata": {},
   "outputs": [
    {
     "name": "stdout",
     "output_type": "stream",
     "text": [
      "Evaluation (test):\n",
      "  RMSE: 2498.51\n",
      "  MAE:  1471.50\n",
      "  R^2:  0.85\n"
     ]
    }
   ],
   "source": [
    "predicted = cart.predict(X_test)\n",
    "evaluate(y_test, predicted)\n",
    "\n",
    "# run 1\n",
    "#\n",
    "\n",
    "# run 2\n",
    "# \n",
    "\n",
    "# run 3\n",
    "#"
   ]
  },
  {
   "cell_type": "code",
   "execution_count": null,
   "metadata": {},
   "outputs": [],
   "source": []
  },
  {
   "cell_type": "code",
   "execution_count": 12,
   "metadata": {},
   "outputs": [
    {
     "name": "stdout",
     "output_type": "stream",
     "text": [
      "CPU times: user 7min 37s, sys: 4.55 s, total: 7min 41s\n",
      "Wall time: 2min 37s\n"
     ]
    },
    {
     "data": {
      "text/plain": [
       "RandomForestRegressor(n_estimators=150, n_jobs=-1, random_state=1)"
      ]
     },
     "execution_count": 12,
     "metadata": {},
     "output_type": "execute_result"
    }
   ],
   "source": [
    "%time rfr.fit(X_train, y_train.ravel())\n",
    "# run 1\n",
    "# time:  2.37s\n",
    "\n",
    "# run 2\n",
    "# time:  \n",
    "\n",
    "# run 3\n",
    "# time:  "
   ]
  },
  {
   "cell_type": "code",
   "execution_count": 13,
   "metadata": {},
   "outputs": [
    {
     "name": "stdout",
     "output_type": "stream",
     "text": [
      "Evaluation (test):\n",
      "  RMSE: 1899.01\n",
      "  MAE:  1076.23\n",
      "  R^2:  0.91\n"
     ]
    }
   ],
   "source": [
    "predicted = rfr.predict(X_test)\n",
    "evaluate(y_test, predicted)\n",
    "\n",
    "# run 1\n",
    "#\n",
    "\n",
    "# run 2\n",
    "# \n",
    "\n",
    "# run 3\n",
    "#"
   ]
  },
  {
   "cell_type": "code",
   "execution_count": null,
   "metadata": {},
   "outputs": [],
   "source": []
  }
 ],
 "metadata": {
  "kernelspec": {
   "display_name": "Python 3",
   "language": "python",
   "name": "python3"
  },
  "language_info": {
   "codemirror_mode": {
    "name": "ipython",
    "version": 3
   },
   "file_extension": ".py",
   "mimetype": "text/x-python",
   "name": "python",
   "nbconvert_exporter": "python",
   "pygments_lexer": "ipython3",
   "version": "3.9.1"
  }
 },
 "nbformat": 4,
 "nbformat_minor": 4
}
