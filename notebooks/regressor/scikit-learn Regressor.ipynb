{
 "cells": [
  {
   "cell_type": "markdown",
   "metadata": {},
   "source": [
    "## This demonstrates scikit-learn regression for comparison with Tribuo regression"
   ]
  },
  {
   "cell_type": "code",
   "execution_count": 1,
   "metadata": {},
   "outputs": [],
   "source": [
    "import pandas as pd\n",
    "import numpy as np\n",
    "from sklearn.model_selection import train_test_split\n",
    "from sklearn import preprocessing\n",
    "from sklearn.linear_model import SGDRegressor\n",
    "from sklearn.linear_model import LinearRegression\n",
    "from sklearn.tree import DecisionTreeRegressor\n",
    "from sklearn.ensemble import RandomForestRegressor\n",
    "from sklearn.svm import SVR\n",
    "from sklearn.metrics import mean_squared_error\n",
    "from sklearn.metrics import mean_absolute_error\n",
    "from sklearn.metrics import r2_score"
   ]
  },
  {
   "cell_type": "code",
   "execution_count": 2,
   "metadata": {},
   "outputs": [],
   "source": [
    "# This dataset is prepared in the notebook: scikit-learn Regressor - Data Cleanup\n",
    "# unzip cleanedCars.zip\n",
    "df = pd.read_csv('../../data/cleanedCars.csv')\n",
    "# print(df)"
   ]
  },
  {
   "cell_type": "code",
   "execution_count": 3,
   "metadata": {},
   "outputs": [
    {
     "name": "stdout",
     "output_type": "stream",
     "text": [
      "Training data size = 30816, number of features = 1186\n",
      "Testing data size = 7705, number of features = 1186\n"
     ]
    }
   ],
   "source": [
    "df_X = df.drop(['price_usd'], axis=1)\n",
    "df_y = pd.DataFrame(df[['price_usd']])\n",
    "\n",
    "\n",
    "X_train, X_test, y_train, y_test = train_test_split(df_X.values, df_y.values, test_size=0.2, random_state=1)\n",
    "print('Training data size = %d, number of features = %d' % (len(X_train), len(df.columns) - 1))\n",
    "print('Testing data size = %d, number of features = %d' % (len(X_test), len(df.columns) - 1))"
   ]
  },
  {
   "cell_type": "code",
   "execution_count": 4,
   "metadata": {},
   "outputs": [],
   "source": [
    "def evaluate(actual, predicted):\n",
    "    print('Evaluation (test):')\n",
    "    print('  RMSE: %.2f' % mean_squared_error(actual, predicted, squared=False))\n",
    "    print('  MAE:  %.2f' % mean_absolute_error(actual, predicted))\n",
    "    print('  R^2:  %.2f' % r2_score(actual, predicted))"
   ]
  },
  {
   "cell_type": "code",
   "execution_count": 5,
   "metadata": {},
   "outputs": [],
   "source": [
    "sgd = SGDRegressor(learning_rate='constant', eta0=0.01)\n",
    "\n",
    "lr = LinearRegression()\n",
    "\n",
    "cart = DecisionTreeRegressor(max_depth=10)\n",
    "\n",
    "rfr = RandomForestRegressor(n_estimators=150, criterion='mse', random_state=1, n_jobs=-1)"
   ]
  },
  {
   "cell_type": "code",
   "execution_count": null,
   "metadata": {},
   "outputs": [],
   "source": []
  },
  {
   "cell_type": "code",
   "execution_count": 6,
   "metadata": {},
   "outputs": [
    {
     "name": "stdout",
     "output_type": "stream",
     "text": [
      "CPU times: user 791 ms, sys: 5.62 ms, total: 797 ms\n",
      "Wall time: 805 ms\n"
     ]
    },
    {
     "data": {
      "text/plain": [
       "SGDRegressor(learning_rate='constant')"
      ]
     },
     "execution_count": 6,
     "metadata": {},
     "output_type": "execute_result"
    }
   ],
   "source": [
    "%time sgd.fit(X_train, y_train.ravel())\n",
    "\n",
    "# run 1\n",
    "# time:  0.90 s\n",
    "\n",
    "# run 2\n",
    "# time:  1.44 s\n",
    "\n",
    "# run 3\n",
    "# time:  0.81 s"
   ]
  },
  {
   "cell_type": "code",
   "execution_count": 7,
   "metadata": {},
   "outputs": [
    {
     "name": "stdout",
     "output_type": "stream",
     "text": [
      "Evaluation (test):\n",
      "  RMSE: 397216533342632148992.00\n",
      "  MAE:  347224843698021138432.00\n",
      "  R^2:  -3749683226619859872732929331298304.00\n"
     ]
    }
   ],
   "source": [
    "predicted = sgd.predict(X_test)\n",
    "evaluate(y_test, predicted)\n",
    "\n",
    "# run 1\n",
    "#  RMSE: 702927861133705216000.00\n",
    "#  MAE:  614450579929122078720.00\n",
    "#  R^2:  -11742524120677054383333060064051200.00\n",
    "\n",
    "# run 2\n",
    "#  RMSE: 419040872859692302336.00\n",
    "#  MAE:  366281277131313446912.00\n",
    "#  R^2:  -4173041635673082319358243373056000.00 \n",
    "\n",
    "# run 3\n",
    "#  RMSE: 397216533342632148992.00\n",
    "#  MAE:  347224843698021138432.00\n",
    "#  R^2:  -3749683226619859872732929331298304.00 "
   ]
  },
  {
   "cell_type": "code",
   "execution_count": null,
   "metadata": {},
   "outputs": [],
   "source": []
  },
  {
   "cell_type": "code",
   "execution_count": 8,
   "metadata": {},
   "outputs": [
    {
     "name": "stdout",
     "output_type": "stream",
     "text": [
      "CPU times: user 7.66 s, sys: 287 ms, total: 7.95 s\n",
      "Wall time: 4.53 s\n"
     ]
    }
   ],
   "source": [
    "%time lr = lr.fit(X_train,y_train)\n",
    "# run 1\n",
    "# time:  4.82 s\n",
    "\n",
    "# run 2\n",
    "# time:  4.48 s\n",
    "\n",
    "# run 3\n",
    "# time:  4.53 s"
   ]
  },
  {
   "cell_type": "code",
   "execution_count": 9,
   "metadata": {},
   "outputs": [
    {
     "name": "stdout",
     "output_type": "stream",
     "text": [
      "Evaluation (test):\n",
      "  RMSE: 2845.83\n",
      "  MAE:  1728.60\n",
      "  R^2:  0.81\n"
     ]
    }
   ],
   "source": [
    "predicted = lr.predict(X_test)\n",
    "evaluate(y_test, predicted)\n",
    "\n",
    "# run 1\n",
    "#  RMSE: 2845.83\n",
    "#  MAE:  1728.60\n",
    "#  R^2:  0.81\n",
    "\n",
    "# run 2\n",
    "#  RMSE: 2845.83\n",
    "#  MAE:  1728.60\n",
    "#  R^2:  0.81 \n",
    "\n",
    "# run 3\n",
    "#  RMSE: 2845.83\n",
    "#  MAE:  1728.60\n",
    "#  R^2:  0.81 "
   ]
  },
  {
   "cell_type": "code",
   "execution_count": null,
   "metadata": {},
   "outputs": [],
   "source": []
  },
  {
   "cell_type": "code",
   "execution_count": 10,
   "metadata": {},
   "outputs": [
    {
     "name": "stdout",
     "output_type": "stream",
     "text": [
      "CPU times: user 2.09 s, sys: 63.9 ms, total: 2.16 s\n",
      "Wall time: 2.18 s\n"
     ]
    }
   ],
   "source": [
    "%time cart = cart.fit(X_train,y_train)\n",
    "# run 1\n",
    "# time:  2.19 s\n",
    "\n",
    "# run 2\n",
    "# time:  2.15 s\n",
    "\n",
    "# run 3\n",
    "# time:  2.18 s"
   ]
  },
  {
   "cell_type": "code",
   "execution_count": 11,
   "metadata": {},
   "outputs": [
    {
     "name": "stdout",
     "output_type": "stream",
     "text": [
      "Evaluation (test):\n",
      "  RMSE: 2503.72\n",
      "  MAE:  1472.48\n",
      "  R^2:  0.85\n"
     ]
    }
   ],
   "source": [
    "predicted = cart.predict(X_test)\n",
    "evaluate(y_test, predicted)\n",
    "\n",
    "# run 1\n",
    "#  RMSE: 2511.46\n",
    "#  MAE:  1474.86\n",
    "#  R^2:  0.85\n",
    "\n",
    "# run 2\n",
    "#  RMSE: 2503.18\n",
    "#  MAE:  1472.68\n",
    "#  R^2:  0.85 \n",
    "\n",
    "# run 3\n",
    "#  RMSE: 2503.72\n",
    "#  MAE:  1472.48\n",
    "#  R^2:  0.85"
   ]
  },
  {
   "cell_type": "code",
   "execution_count": null,
   "metadata": {},
   "outputs": [],
   "source": []
  },
  {
   "cell_type": "code",
   "execution_count": 12,
   "metadata": {},
   "outputs": [
    {
     "name": "stdout",
     "output_type": "stream",
     "text": [
      "CPU times: user 7min 23s, sys: 1.66 s, total: 7min 25s\n",
      "Wall time: 2min 6s\n"
     ]
    },
    {
     "data": {
      "text/plain": [
       "RandomForestRegressor(n_estimators=150, n_jobs=-1, random_state=1)"
      ]
     },
     "execution_count": 12,
     "metadata": {},
     "output_type": "execute_result"
    }
   ],
   "source": [
    "%time rfr.fit(X_train, y_train.ravel())\n",
    "# run 1\n",
    "# time:  2min 11s\n",
    "\n",
    "# run 2\n",
    "# time:  2min 13s\n",
    "\n",
    "# run 3\n",
    "# time:  2min 6s"
   ]
  },
  {
   "cell_type": "code",
   "execution_count": 13,
   "metadata": {},
   "outputs": [
    {
     "name": "stdout",
     "output_type": "stream",
     "text": [
      "Evaluation (test):\n",
      "  RMSE: 1899.01\n",
      "  MAE:  1076.23\n",
      "  R^2:  0.91\n"
     ]
    }
   ],
   "source": [
    "predicted = rfr.predict(X_test)\n",
    "evaluate(y_test, predicted)\n",
    "\n",
    "# run 1\n",
    "#  RMSE: 1899.01\n",
    "#  MAE:  1076.23\n",
    "#  R^2:  0.91\n",
    "\n",
    "# run 2\n",
    "#  RMSE: 1899.01\n",
    "#  MAE:  1076.23\n",
    "#  R^2:  0.91 \n",
    "\n",
    "#  RMSE: 1899.01\n",
    "#  MAE:  1076.23\n",
    "#  R^2:  0.91"
   ]
  },
  {
   "cell_type": "code",
   "execution_count": null,
   "metadata": {},
   "outputs": [],
   "source": []
  }
 ],
 "metadata": {
  "kernelspec": {
   "display_name": "Python 3",
   "language": "python",
   "name": "python3"
  },
  "language_info": {
   "codemirror_mode": {
    "name": "ipython",
    "version": 3
   },
   "file_extension": ".py",
   "mimetype": "text/x-python",
   "name": "python",
   "nbconvert_exporter": "python",
   "pygments_lexer": "ipython3",
   "version": "3.9.1"
  }
 },
 "nbformat": 4,
 "nbformat_minor": 4
}
