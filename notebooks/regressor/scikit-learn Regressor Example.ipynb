{
 "cells": [
  {
   "cell_type": "markdown",
   "metadata": {},
   "source": [
    "## This demonstrates scikit-learn regression for comparison with Tribuo regression, although these resulting regression models were not used in the final comparisons"
   ]
  },
  {
   "cell_type": "code",
   "execution_count": 1,
   "metadata": {},
   "outputs": [],
   "source": [
    "import pandas as pd\n",
    "import numpy as np\n",
    "from sklearn.model_selection import train_test_split\n",
    "from sklearn import preprocessing\n",
    "from sklearn.linear_model import SGDRegressor\n",
    "from sklearn.linear_model import LinearRegression\n",
    "from sklearn.tree import DecisionTreeRegressor\n",
    "from sklearn.metrics import mean_squared_error"
   ]
  },
  {
   "cell_type": "code",
   "execution_count": 2,
   "metadata": {},
   "outputs": [
    {
     "name": "stdout",
     "output_type": "stream",
     "text": [
      "           depth  salinity    temp\n",
      "0      -0.719040 -0.869381  10.500\n",
      "1      -0.693121 -0.869381  10.460\n",
      "2      -0.686641 -0.875879  10.460\n",
      "3      -0.657483 -0.912705  10.450\n",
      "4      -0.654243 -0.910539  10.450\n",
      "...          ...       ...     ...\n",
      "814242 -0.719040 -0.938050  18.744\n",
      "814243 -0.712560 -0.938050  18.744\n",
      "814244 -0.702840 -0.923536  18.692\n",
      "814245 -0.686641 -0.942599  18.161\n",
      "814246 -0.670442 -0.982024  17.533\n",
      "\n",
      "[814247 rows x 3 columns]\n"
     ]
    }
   ],
   "source": [
    "# This dataset is generated in the notebook: scikit-learn Regressor Example - Data Cleanup\n",
    "df = pd.read_csv('../../data/cleanedBottle.csv')\n",
    "print(df)"
   ]
  },
  {
   "cell_type": "code",
   "execution_count": 3,
   "metadata": {},
   "outputs": [
    {
     "name": "stdout",
     "output_type": "stream",
     "text": [
      "Training data size = 651397, number of features = 2\n",
      "Testing data size = 162850, number of features = 2\n"
     ]
    }
   ],
   "source": [
    "X = np.array(df[['depth', 'salinity']])\n",
    "y = np.array(df['temp'])\n",
    "\n",
    "X_train, X_test, y_train, y_test = train_test_split(X, y, test_size=0.2, random_state=1)\n",
    "print('Training data size = %d, number of features = %d' % (len(X_train), len(df.columns) - 1))\n",
    "print('Testing data size = %d, number of features = %d' % (len(X_test), len(df.columns) - 1))"
   ]
  },
  {
   "cell_type": "code",
   "execution_count": 4,
   "metadata": {},
   "outputs": [
    {
     "name": "stdout",
     "output_type": "stream",
     "text": [
      "CPU times: user 1.04 s, sys: 8.61 ms, total: 1.05 s\n",
      "Wall time: 1.06 s\n"
     ]
    }
   ],
   "source": [
    "# optimiser=AdaGrad(initialLearningRate=0.01,epsilon=1.0E-6,initialValue=0.0),epochs=10,minibatchSize=1,seed=1)\n",
    "# sdg = SGDRegressor(learning_rate='adaptive', epsilon=0.1, eta0=0.01, tol=1e-3)\n",
    "# sgd = SGDRegressor(learning_rate='adaptive', epsilon=0.1, eta0=0.01)\n",
    "sgd = SGDRegressor()\n",
    "%time sdg = sgd.fit(X_train, y_train)"
   ]
  },
  {
   "cell_type": "code",
   "execution_count": 5,
   "metadata": {},
   "outputs": [],
   "source": [
    "predicted = sgd.predict(X_test)\n",
    "\n",
    "# predicted = cart.predict(X_test)"
   ]
  },
  {
   "cell_type": "code",
   "execution_count": null,
   "metadata": {},
   "outputs": [],
   "source": []
  },
  {
   "cell_type": "code",
   "execution_count": 6,
   "metadata": {},
   "outputs": [
    {
     "name": "stdout",
     "output_type": "stream",
     "text": [
      "CPU times: user 87.6 ms, sys: 14 ms, total: 102 ms\n",
      "Wall time: 70 ms\n"
     ]
    }
   ],
   "source": [
    "lr = LinearRegression()\n",
    "%time lr = lr.fit(X_train,y_train)"
   ]
  },
  {
   "cell_type": "code",
   "execution_count": 7,
   "metadata": {},
   "outputs": [],
   "source": [
    "predicted = lr.predict(X_test)"
   ]
  },
  {
   "cell_type": "code",
   "execution_count": null,
   "metadata": {},
   "outputs": [],
   "source": []
  },
  {
   "cell_type": "code",
   "execution_count": 8,
   "metadata": {},
   "outputs": [
    {
     "name": "stdout",
     "output_type": "stream",
     "text": [
      "CPU times: user 675 ms, sys: 11.6 ms, total: 687 ms\n",
      "Wall time: 649 ms\n"
     ]
    }
   ],
   "source": [
    "cart = DecisionTreeRegressor(max_depth=6)\n",
    "%time cart = cart.fit(X_train,y_train)"
   ]
  },
  {
   "cell_type": "code",
   "execution_count": 9,
   "metadata": {},
   "outputs": [],
   "source": [
    "predicted = cart.predict(X_test)"
   ]
  },
  {
   "cell_type": "code",
   "execution_count": null,
   "metadata": {},
   "outputs": [],
   "source": []
  },
  {
   "cell_type": "code",
   "execution_count": 10,
   "metadata": {},
   "outputs": [
    {
     "name": "stdout",
     "output_type": "stream",
     "text": [
      "actual: 8.24, predicted: 8.79\n",
      "actual: 14.14, predicted: 11.83\n",
      "actual: 13.42, predicted: 14.92\n"
     ]
    }
   ],
   "source": [
    "# Compare the first 3 \n",
    "print('actual: %.2f, predicted: %.2f' % (y_test[0], predicted[0]))\n",
    "print('actual: %.2f, predicted: %.2f' % (y_test[1], predicted[1]))\n",
    "print('actual: %.2f, predicted: %.2f' % (y_test[2], predicted[2]))"
   ]
  },
  {
   "cell_type": "code",
   "execution_count": 11,
   "metadata": {},
   "outputs": [
    {
     "name": "stdout",
     "output_type": "stream",
     "text": [
      "actual: 6.53, predicted: 6.01\n",
      "actual: 9.58, predicted: 8.79\n",
      "actual: 12.54, predicted: 10.69\n"
     ]
    }
   ],
   "source": [
    "# Compare 3 more from the middle \n",
    "print('actual: %.2f, predicted: %.2f' % (y_test[1000], predicted[1000]))\n",
    "print('actual: %.2f, predicted: %.2f' % (y_test[2000], predicted[2000]))\n",
    "print('actual: %.2f, predicted: %.2f' % (y_test[3000], predicted[3000]))"
   ]
  },
  {
   "cell_type": "code",
   "execution_count": 12,
   "metadata": {},
   "outputs": [
    {
     "name": "stdout",
     "output_type": "stream",
     "text": [
      "RMSE: 1.68\n"
     ]
    }
   ],
   "source": [
    "# note the use of the squared param, which gives RMSE\n",
    "\n",
    "print('RMSE: %.2f' % mean_squared_error(y_test, predicted, squared=False))"
   ]
  },
  {
   "cell_type": "code",
   "execution_count": null,
   "metadata": {},
   "outputs": [],
   "source": []
  }
 ],
 "metadata": {
  "kernelspec": {
   "display_name": "Python 3",
   "language": "python",
   "name": "python3"
  },
  "language_info": {
   "codemirror_mode": {
    "name": "ipython",
    "version": 3
   },
   "file_extension": ".py",
   "mimetype": "text/x-python",
   "name": "python",
   "nbconvert_exporter": "python",
   "pygments_lexer": "ipython3",
   "version": "3.9.1"
  }
 },
 "nbformat": 4,
 "nbformat_minor": 4
}
