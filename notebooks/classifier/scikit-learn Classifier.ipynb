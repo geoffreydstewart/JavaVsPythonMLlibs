{
 "cells": [
  {
   "cell_type": "markdown",
   "metadata": {},
   "source": [
    "## This demonstrates scikit-learn classfication for comparison with Tribuo classfication"
   ]
  },
  {
   "cell_type": "code",
   "execution_count": 1,
   "metadata": {},
   "outputs": [],
   "source": [
    "import pandas as pd\n",
    "import numpy as np\n",
    "from sklearn.model_selection import train_test_split\n",
    "from sklearn import preprocessing\n",
    "from sklearn.linear_model import LogisticRegression, SGDClassifier\n",
    "from sklearn.tree import DecisionTreeClassifier\n",
    "from sklearn.ensemble import RandomForestClassifier\n",
    "from sklearn.neural_network import MLPClassifier\n",
    "from sklearn.preprocessing import LabelEncoder\n",
    "from sklearn.metrics import classification_report, confusion_matrix"
   ]
  },
  {
   "cell_type": "code",
   "execution_count": 2,
   "metadata": {},
   "outputs": [],
   "source": [
    "# This dataset is prepared in the notebook: scikit-learn Classifier - Data Cleanup\n",
    "df = pd.read_csv('../../data/cleanedWeatherAUS.csv', header=None)\n",
    "# print(df)"
   ]
  },
  {
   "cell_type": "code",
   "execution_count": 3,
   "metadata": {},
   "outputs": [
    {
     "name": "stdout",
     "output_type": "stream",
     "text": [
      "Training data size = 112629, number of features = 62\n",
      "Testing data size = 28158, number of features = 62\n"
     ]
    }
   ],
   "source": [
    "X = np.array(df[[0, 1, 2, 3, 4, 5, 6, 7, 8, 9, 10, 11, 12, 13, 14, 15, 16, 17, 18, 19, 20, 21, 22, 23, 24, 25, 26, \n",
    "                 27, 28, 29, 30, 31, 32, 33, 34, 35, 36, 37, 38, 39, 40, 41, 42, 43, 44, 45, 46, 47, 48, 49, 50, \n",
    "                 51, 52, 53, 54, 55, 56, 57, 58, 59, 60, 61]])\n",
    "y = np.array(df[62])\n",
    "\n",
    "X_train, X_test, y_train, y_test = train_test_split(X, y, test_size=0.2, random_state=1)\n",
    "print('Training data size = %d, number of features = %d' % (len(X_train), len(df.columns) - 1))\n",
    "print('Testing data size = %d, number of features = %d' % (len(X_test), len(df.columns) - 1))"
   ]
  },
  {
   "cell_type": "code",
   "execution_count": 4,
   "metadata": {},
   "outputs": [],
   "source": [
    "sgd = SGDClassifier(epsilon=0.1)\n",
    "\n",
    "lr = LogisticRegression(tol=0.1, solver='liblinear')\n",
    "\n",
    "cart = DecisionTreeClassifier()\n",
    "\n",
    "mlp = MLPClassifier(max_iter=300)"
   ]
  },
  {
   "cell_type": "code",
   "execution_count": null,
   "metadata": {},
   "outputs": [],
   "source": [
    "print(sgd)\n",
    "print(lr)\n",
    "print(cart)\n",
    "print(mlp)"
   ]
  },
  {
   "cell_type": "code",
   "execution_count": null,
   "metadata": {},
   "outputs": [],
   "source": []
  },
  {
   "cell_type": "code",
   "execution_count": 5,
   "metadata": {},
   "outputs": [
    {
     "name": "stdout",
     "output_type": "stream",
     "text": [
      "CPU times: user 497 ms, sys: 6.14 ms, total: 503 ms\n",
      "Wall time: 508 ms\n"
     ]
    },
    {
     "data": {
      "text/plain": [
       "SGDClassifier()"
      ]
     },
     "execution_count": 5,
     "metadata": {},
     "output_type": "execute_result"
    }
   ],
   "source": [
    "%time sgd.fit(X_train, y_train)\n",
    "\n",
    "# run 1\n",
    "# time:  0.67s\n",
    "\n",
    "# run 2\n",
    "# time:  0.72s\n",
    "\n",
    "# run 3\n",
    "# time:  0.51s"
   ]
  },
  {
   "cell_type": "code",
   "execution_count": 6,
   "metadata": {},
   "outputs": [
    {
     "name": "stdout",
     "output_type": "stream",
     "text": [
      "              precision    recall  f1-score   support\n",
      "\n",
      "          No       0.85      0.96      0.90     21918\n",
      "         Yes       0.75      0.42      0.54      6240\n",
      "\n",
      "    accuracy                           0.84     28158\n",
      "   macro avg       0.80      0.69      0.72     28158\n",
      "weighted avg       0.83      0.84      0.82     28158\n",
      "\n"
     ]
    }
   ],
   "source": [
    "predicted = sgd.predict(X_test)\n",
    "print(classification_report(y_test, predicted))\n",
    "\n",
    "# run 1\n",
    "#               precision    recall  f1-score   support\n",
    "#           No       0.85      0.96      0.90     21918\n",
    "#          Yes       0.75      0.41      0.53      6240\n",
    "\n",
    "# run 2\n",
    "#               precision    recall  f1-score   support\n",
    "#           No       0.86      0.96      0.90     21918\n",
    "#          Yes       0.74      0.43      0.55      6240\n",
    "\n",
    "# run 3\n",
    "#               precision    recall  f1-score   support\n",
    "#           No       0.85      0.96      0.90     21918\n",
    "#          Yes       0.75      0.42      0.54      6240"
   ]
  },
  {
   "cell_type": "code",
   "execution_count": null,
   "metadata": {},
   "outputs": [],
   "source": []
  },
  {
   "cell_type": "code",
   "execution_count": 7,
   "metadata": {},
   "outputs": [
    {
     "name": "stdout",
     "output_type": "stream",
     "text": [
      "CPU times: user 454 ms, sys: 16.8 ms, total: 471 ms\n",
      "Wall time: 488 ms\n"
     ]
    },
    {
     "data": {
      "text/plain": [
       "LogisticRegression(solver='liblinear', tol=0.1)"
      ]
     },
     "execution_count": 7,
     "metadata": {},
     "output_type": "execute_result"
    }
   ],
   "source": [
    "%time lr.fit(X_train, y_train)\n",
    "\n",
    "# run 1\n",
    "# time:  0.46s\n",
    "\n",
    "# run 2\n",
    "# time:  0.44s\n",
    "\n",
    "# run 3\n",
    "# time:  0.49s"
   ]
  },
  {
   "cell_type": "code",
   "execution_count": 8,
   "metadata": {},
   "outputs": [
    {
     "name": "stdout",
     "output_type": "stream",
     "text": [
      "              precision    recall  f1-score   support\n",
      "\n",
      "          No       0.86      0.95      0.90     21918\n",
      "         Yes       0.70      0.46      0.55      6240\n",
      "\n",
      "    accuracy                           0.84     28158\n",
      "   macro avg       0.78      0.70      0.73     28158\n",
      "weighted avg       0.83      0.84      0.82     28158\n",
      "\n"
     ]
    }
   ],
   "source": [
    "predicted = lr.predict(X_test)\n",
    "print(classification_report(y_test, predicted))\n",
    "\n",
    "# run 1\n",
    "#               precision    recall  f1-score   support\n",
    "#           No       0.86      0.95      0.90     21918\n",
    "#          Yes       0.70      0.46      0.55      6240\n",
    "\n",
    "# run 2\n",
    "#               precision    recall  f1-score   support\n",
    "#           No       0.86      0.95      0.90     21918\n",
    "#          Yes       0.70      0.46      0.55      6240\n",
    "\n",
    "# run 3\n",
    "#               precision    recall  f1-score   support\n",
    "#           No       0.86      0.95      0.90     21918\n",
    "#          Yes       0.70      0.46      0.55      6240"
   ]
  },
  {
   "cell_type": "code",
   "execution_count": null,
   "metadata": {},
   "outputs": [],
   "source": []
  },
  {
   "cell_type": "code",
   "execution_count": 9,
   "metadata": {},
   "outputs": [
    {
     "name": "stdout",
     "output_type": "stream",
     "text": [
      "CPU times: user 2.42 s, sys: 41.9 ms, total: 2.46 s\n",
      "Wall time: 2.6 s\n"
     ]
    },
    {
     "data": {
      "text/plain": [
       "DecisionTreeClassifier()"
      ]
     },
     "execution_count": 9,
     "metadata": {},
     "output_type": "execute_result"
    }
   ],
   "source": [
    "%time cart.fit(X_train, y_train)\n",
    "\n",
    "# run 1\n",
    "# time:  2.36 s\n",
    "\n",
    "# run 2\n",
    "# time:  2.41 s\n",
    "\n",
    "# run 2\n",
    "# time:  2.60 s"
   ]
  },
  {
   "cell_type": "code",
   "execution_count": 10,
   "metadata": {},
   "outputs": [
    {
     "name": "stdout",
     "output_type": "stream",
     "text": [
      "              precision    recall  f1-score   support\n",
      "\n",
      "          No       0.86      0.86      0.86     21918\n",
      "         Yes       0.51      0.52      0.52      6240\n",
      "\n",
      "    accuracy                           0.78     28158\n",
      "   macro avg       0.69      0.69      0.69     28158\n",
      "weighted avg       0.79      0.78      0.79     28158\n",
      "\n"
     ]
    }
   ],
   "source": [
    "predicted = cart.predict(X_test)\n",
    "print(classification_report(y_test, predicted))\n",
    "\n",
    "# run 1\n",
    "#               precision    recall  f1-score   support\n",
    "#           No       0.86      0.86      0.86     21918\n",
    "#          Yes       0.51      0.52      0.51      6240\n",
    "\n",
    "# run 2\n",
    "#               precision    recall  f1-score   support\n",
    "#           No       0.86      0.86      0.86     21918\n",
    "#          Yes       0.51      0.52      0.51      6240\n",
    "\n",
    "# run 3\n",
    "#               precision    recall  f1-score   support\n",
    "#           No       0.86      0.86      0.86     21918\n",
    "#          Yes       0.51      0.52      0.52      6240"
   ]
  },
  {
   "cell_type": "code",
   "execution_count": null,
   "metadata": {},
   "outputs": [],
   "source": []
  },
  {
   "cell_type": "code",
   "execution_count": 11,
   "metadata": {},
   "outputs": [
    {
     "name": "stdout",
     "output_type": "stream",
     "text": [
      "CPU times: user 4min 42s, sys: 19.3 s, total: 5min 2s\n",
      "Wall time: 2min 37s\n"
     ]
    },
    {
     "data": {
      "text/plain": [
       "MLPClassifier(max_iter=300)"
      ]
     },
     "execution_count": 11,
     "metadata": {},
     "output_type": "execute_result"
    }
   ],
   "source": [
    "%time mlp.fit(X_train, y_train)\n",
    "\n",
    "# run 1\n",
    "# time:  2min 35s\n",
    "\n",
    "# run 2\n",
    "# time:  2min 32s\n",
    "\n",
    "# run 3\n",
    "# time:  2min 37"
   ]
  },
  {
   "cell_type": "code",
   "execution_count": 12,
   "metadata": {},
   "outputs": [
    {
     "name": "stdout",
     "output_type": "stream",
     "text": [
      "              precision    recall  f1-score   support\n",
      "\n",
      "          No       0.87      0.95      0.91     21918\n",
      "         Yes       0.73      0.49      0.59      6240\n",
      "\n",
      "    accuracy                           0.85     28158\n",
      "   macro avg       0.80      0.72      0.75     28158\n",
      "weighted avg       0.84      0.85      0.84     28158\n",
      "\n"
     ]
    }
   ],
   "source": [
    "predicted = mlp.predict(X_test)\n",
    "print(classification_report(y_test, predicted))\n",
    "\n",
    "# run 1\n",
    "#               precision    recall  f1-score   support\n",
    "#           No       0.86      0.96      0.91     21918\n",
    "#          Yes       0.75      0.46      0.57      6240\n",
    "\n",
    "# run 2\n",
    "#               precision    recall  f1-score   support\n",
    "#           No       0.87      0.94      0.90     21918\n",
    "#          Yes       0.71      0.50      0.59      6240\n",
    "\n",
    "# run 3\n",
    "#               precision    recall  f1-score   support\n",
    "#           No       0.87      0.95      0.91     21918\n",
    "#          Yes       0.73      0.49      0.59      6240"
   ]
  },
  {
   "cell_type": "code",
   "execution_count": null,
   "metadata": {},
   "outputs": [],
   "source": []
  },
  {
   "cell_type": "code",
   "execution_count": 13,
   "metadata": {},
   "outputs": [],
   "source": [
    "# print(confusion_matrix(y_test, predicted, labels=['No', 'Yes']))"
   ]
  }
 ],
 "metadata": {
  "kernelspec": {
   "display_name": "Python 3",
   "language": "python",
   "name": "python3"
  },
  "language_info": {
   "codemirror_mode": {
    "name": "ipython",
    "version": 3
   },
   "file_extension": ".py",
   "mimetype": "text/x-python",
   "name": "python",
   "nbconvert_exporter": "python",
   "pygments_lexer": "ipython3",
   "version": "3.9.1"
  }
 },
 "nbformat": 4,
 "nbformat_minor": 4
}
