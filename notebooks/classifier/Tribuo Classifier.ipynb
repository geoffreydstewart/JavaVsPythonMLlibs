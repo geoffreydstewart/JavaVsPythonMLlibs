{
 "cells": [
  {
   "cell_type": "markdown",
   "metadata": {},
   "source": [
    "## This demonstrates Tribuo classfication for comparison with scikit-learn classfication"
   ]
  },
  {
   "cell_type": "code",
   "execution_count": 1,
   "metadata": {},
   "outputs": [],
   "source": [
    "%jars ./jars/tribuo-classification-experiments-4.1.0-jar-with-dependencies.jar\n",
    "%jars ./jars/tribuo-classification-liblinear-4.1.0-jar-with-dependencies.jar\n",
    "%jars ./jars/tribuo-json-4.1.0-jar-with-dependencies.jar"
   ]
  },
  {
   "cell_type": "code",
   "execution_count": 2,
   "metadata": {},
   "outputs": [],
   "source": [
    "import java.nio.file.Paths;\n",
    "import java.nio.file.Files;\n",
    "import java.util.logging.Level;\n",
    "import java.util.logging.Logger;"
   ]
  },
  {
   "cell_type": "code",
   "execution_count": 3,
   "metadata": {},
   "outputs": [],
   "source": [
    "import org.tribuo.*;\n",
    "import org.tribuo.evaluation.TrainTestSplitter;\n",
    "import org.tribuo.data.csv.CSVLoader;\n",
    "import org.tribuo.math.optimisers.*;\n",
    "import org.tribuo.classification.*;\n",
    "import org.tribuo.classification.evaluation.*;\n",
    "import org.tribuo.classification.sgd.linear.LogisticRegressionTrainer;\n",
    "import org.tribuo.classification.sgd.linear.LinearSGDTrainer;\n",
    "import org.tribuo.classification.liblinear.LibLinearClassificationTrainer;\n",
    "import org.tribuo.classification.sgd.objectives.Hinge;\n",
    "import org.tribuo.classification.dtree.CARTClassificationTrainer;\n",
    "import org.tribuo.classification.xgboost.XGBoostClassificationTrainer;\n",
    "import org.tribuo.Trainer;\n",
    "import org.tribuo.util.Util;"
   ]
  },
  {
   "cell_type": "code",
   "execution_count": 4,
   "metadata": {},
   "outputs": [],
   "source": [
    "var labelFactory = new LabelFactory();\n",
    "var csvLoader = new CSVLoader<>(labelFactory);"
   ]
  },
  {
   "cell_type": "code",
   "execution_count": 5,
   "metadata": {},
   "outputs": [],
   "source": [
    "var rainHeaders = new String[]{\"Month\", \"MinTemp\", \"MaxTemp\", \"Rainfall\", \"WindGustSpeed\", \"WindSpeed9am\", \n",
    "                               \"WindSpeed3pm\", \"Humidity9am\", \"Humidity3pm\", \"Pressure9am\", \"Pressure3pm\", \n",
    "                               \"Temp9am\", \"Temp3pm\", \"RainToday\", \"WindGustDir_E\", \"WindGustDir_ENE\", \n",
    "                               \"WindGustDir_ESE\", \"WindGustDir_N\", \"WindGustDir_NE\", \"WindGustDir_NNE\", \n",
    "                               \"WindGustDir_NNW\", \"WindGustDir_NW\", \"WindGustDir_S\", \"WindGustDir_SE\", \n",
    "                               \"WindGustDir_SSE\", \"WindGustDir_SSW\", \"WindGustDir_SW\", \"WindGustDir_W\",\n",
    "                               \"WindGustDir_WNW\", \"WindGustDir_WSW\", \"WindDir9am_E\", \"WindDir9am_ENE\",\n",
    "                               \"WindDir9am_ESE\", \"WindDir9am_N\", \"WindDir9am_NE\", \"WindDir9am_NNE\", \"WindDir9am_NNW\",\n",
    "                               \"WindDir9am_NW\", \"WindDir9am_S\", \"WindDir9am_SE\", \"WindDir9am_SSE\", \"WindDir9am_SSW\", \n",
    "                               \"WindDir9am_SW\", \"WindDir9am_W\", \"WindDir9am_WNW\", \"WindDir9am_WSW\", \"WindDir3pm_E\",\n",
    "                               \"WindDir3pm_ENE\", \"WindDir3pm_ESE\", \"WindDir3pm_N\", \"WindDir3pm_NE\", \"WindDir3pm_NNE\",\n",
    "                               \"WindDir3pm_NNW\", \"WindDir3pm_NW\", \"WindDir3pm_S\", \"WindDir3pm_SE\", \"WindDir3pm_SSE\", \n",
    "                               \"WindDir3pm_SSW\", \"WindDir3pm_SW\", \"WindDir3pm_W\", \"WindDir3pm_WNW\", \"WindDir3pm_WSW\",\n",
    "                               \"RainTomorrowN\"};\n",
    "// This dataset is prepared in the notebook: scikit-learn Classifier - Data Cleanup\n",
    "var weatherSource = csvLoader.loadDataSource(Paths.get(\"data/cleanedWeatherAUS.csv\"),\"RainTomorrowN\",rainHeaders);\n",
    "var weatherSplitter = new TrainTestSplitter<>(weatherSource,0.8,1L);"
   ]
  },
  {
   "cell_type": "code",
   "execution_count": 6,
   "metadata": {},
   "outputs": [
    {
     "name": "stdout",
     "output_type": "stream",
     "text": [
      "Training data size = 112629, number of features = 62, number of classes = 2\n",
      "Testing data size = 28158, number of features = 62, number of classes = 2\n"
     ]
    }
   ],
   "source": [
    "var trainingDataset = new MutableDataset<>(weatherSplitter.getTrain());\n",
    "var testingDataset = new MutableDataset<>(weatherSplitter.getTest());\n",
    "System.out.println(String.format(\"Training data size = %d, number of features = %d, number of classes = %d\",trainingDataset.size(),trainingDataset.getFeatureMap().size(),trainingDataset.getOutputInfo().size()));\n",
    "System.out.println(String.format(\"Testing data size = %d, number of features = %d, number of classes = %d\",testingDataset.size(),testingDataset.getFeatureMap().size(),testingDataset.getOutputInfo().size()));"
   ]
  },
  {
   "cell_type": "code",
   "execution_count": 7,
   "metadata": {},
   "outputs": [],
   "source": [
    "// Note: the types including generics were tricky to get working\n",
    "public Model train(String name, Trainer trainer, Dataset<Label> trainData) { \n",
    "    // Train the model\n",
    "    var startTime = System.currentTimeMillis();\n",
    "    var model = trainer.train(trainData);\n",
    "    var endTime = System.currentTimeMillis();\n",
    "    System.out.println(\"Training \" + name + \" took \" + Util.formatDuration(startTime,endTime));\n",
    "    // Evaluate the model on the training data\n",
    "    // var eval = new LabelEvaluator();\n",
    "    // var evaluation = eval.evaluate(model,trainData);\n",
    "    // Don't report training scores\n",
    "    // System.out.println(evaluation.toString());\n",
    "    //System.out.println(evaluation.getConfusionMatrix().toString());\n",
    "    return model;\n",
    "}"
   ]
  },
  {
   "cell_type": "code",
   "execution_count": 8,
   "metadata": {},
   "outputs": [],
   "source": [
    "public void evaluate(Model model, Dataset<Label> testData) {\n",
    "    // Evaluate the model on the test data\n",
    "    var eval = new LabelEvaluator();\n",
    "    var evaluation = eval.evaluate(model,testData);\n",
    "    System.out.println(evaluation.toString());\n",
    "    //System.out.println(evaluation.getConfusionMatrix().toString());\n",
    "}"
   ]
  },
  {
   "cell_type": "code",
   "execution_count": 9,
   "metadata": {},
   "outputs": [],
   "source": [
    "var lrsgd = new LinearSGDTrainer(\n",
    "    new Hinge(), \n",
    "    new AdaGrad(0.1, 0.1), // SGD.getLinearDecaySGD(0.01), \n",
    "    5,\n",
    "    Trainer.DEFAULT_SEED\n",
    ");\n",
    "\n",
    "var lr = new LibLinearClassificationTrainer();\n",
    "\n",
    "var cart = new CARTClassificationTrainer();\n",
    "\n",
    "var xgb = new XGBoostClassificationTrainer(100);"
   ]
  },
  {
   "cell_type": "code",
   "execution_count": 10,
   "metadata": {},
   "outputs": [
    {
     "name": "stdout",
     "output_type": "stream",
     "text": [
      "LinearSGDTrainer(objective=Hinge(margin=1.0),optimiser=AdaGrad(initialLearningRate=0.1,epsilon=0.1,initialValue=0.0),epochs=5,minibatchSize=1,seed=12345)\n",
      "LibLinearTrainer(solver=L2R_L2LOSS_SVC_DUAL,cost=1.0,terminationCriterion=0.1,maxIterations=1000,regression-epsilon=0.1)\n",
      "CARTClassificationTrainer(maxDepth=2147483647,minChildWeight=5.0,minImpurityDecrease=0.0,fractionFeaturesInSplit=1.0,useRandomSplitPoints=false,impurity=GiniIndex,seed=12345)\n",
      "XGBoostTrainer(numTrees=100,parameters{colsample_bytree=1.0, tree_method=auto, seed=12345, max_depth=6, booster=gbtree, objective=multi:softprob, lambda=1.0, eta=0.3, nthread=4, alpha=0.0, subsample=1.0, gamma=0.0, min_child_weight=1.0, verbosity=0})\n"
     ]
    }
   ],
   "source": [
    "System.out.println(lrsgd.toString());\n",
    "System.out.println(lr.toString());\n",
    "System.out.println(cart.toString());\n",
    "System.out.println(xgb.toString());"
   ]
  },
  {
   "cell_type": "code",
   "execution_count": 11,
   "metadata": {},
   "outputs": [],
   "source": [
    "// Turn off that SGD logging - it effects performance\n",
    "var logger = Logger.getLogger(org.tribuo.common.sgd.AbstractSGDTrainer.class.getName());\n",
    "logger.setLevel(Level.OFF);"
   ]
  },
  {
   "cell_type": "code",
   "execution_count": null,
   "metadata": {},
   "outputs": [],
   "source": []
  },
  {
   "cell_type": "code",
   "execution_count": 12,
   "metadata": {},
   "outputs": [
    {
     "name": "stdout",
     "output_type": "stream",
     "text": [
      "Training Linear Regression (SGD) took (00:00:01:578)\n"
     ]
    }
   ],
   "source": [
    "var lrsgdModel = train(\"Linear Regression (SGD)\", lrsgd, trainingDataset);\n",
    "\n",
    "// run 1\n",
    "// time 2.22s\n",
    "\n",
    "// run 2\n",
    "// time 1.56s\n",
    "\n",
    "// run 3\n",
    "// time 1.58"
   ]
  },
  {
   "cell_type": "code",
   "execution_count": 13,
   "metadata": {},
   "outputs": [
    {
     "name": "stdout",
     "output_type": "stream",
     "text": [
      "Class                           n          tp          fn          fp      recall        prec          f1\n",
      "No                         21,889      20,988         901       3,596       0.959       0.854       0.903\n",
      "Yes                         6,269       2,673       3,596         901       0.426       0.748       0.543\n",
      "Total                      28,158      23,661       4,497       4,497\n",
      "Accuracy                                                                    0.840\n",
      "Micro Average                                                               0.840       0.840       0.840\n",
      "Macro Average                                                               0.693       0.801       0.723\n",
      "Balanced Error Rate                                                         0.307\n"
     ]
    }
   ],
   "source": [
    "evaluate(lrsgdModel,testingDataset);\n",
    "\n",
    "\n",
    "// run 1\n",
    "// Class     recall        prec          f1\n",
    "// No        0.959       0.854       0.903\n",
    "// Yes       0.426       0.748       0.543\n",
    "\n",
    "// run 2\n",
    "// Class     recall        prec          f1\n",
    "// No        0.959       0.854       0.903\n",
    "// Yes       0.426       0.748       0.543\n",
    "\n",
    "// run 3\n",
    "// Class     recall        prec          f1\n",
    "// No        0.959       0.854       0.903\n",
    "// Yes       0.426       0.748       0.543"
   ]
  },
  {
   "cell_type": "code",
   "execution_count": null,
   "metadata": {},
   "outputs": [],
   "source": []
  },
  {
   "cell_type": "code",
   "execution_count": 14,
   "metadata": {},
   "outputs": [
    {
     "name": "stdout",
     "output_type": "stream",
     "text": [
      "Training Linear Regression took (00:00:06:506)\n"
     ]
    }
   ],
   "source": [
    "var lrModel = train(\"Linear Regression\", lr, trainingDataset);\n",
    "\n",
    "// run 1\n",
    "// time 8.21 s\n",
    "\n",
    "// run 2\n",
    "// time 7.21 s\n",
    "\n",
    "// run 3\n",
    "// time 6.51"
   ]
  },
  {
   "cell_type": "code",
   "execution_count": 15,
   "metadata": {},
   "outputs": [
    {
     "name": "stdout",
     "output_type": "stream",
     "text": [
      "Class                           n          tp          fn          fp      recall        prec          f1\n",
      "No                         21,889      20,903         986       3,457       0.955       0.858       0.904\n",
      "Yes                         6,269       2,812       3,457         986       0.449       0.740       0.559\n",
      "Total                      28,158      23,715       4,443       4,443\n",
      "Accuracy                                                                    0.842\n",
      "Micro Average                                                               0.842       0.842       0.842\n",
      "Macro Average                                                               0.702       0.799       0.731\n",
      "Balanced Error Rate                                                         0.298\n"
     ]
    }
   ],
   "source": [
    "evaluate(lrModel,testingDataset);\n",
    "\n",
    "// run 1\n",
    "// Class      recall        prec          f1\n",
    "//  No         0.955       0.858       0.904\n",
    "// Yes         0.449       0.740       0.559\n",
    "\n",
    "// run 2\n",
    "// Class      recall        prec          f1\n",
    "//  No         0.955       0.858       0.904\n",
    "// Yes         0.449       0.740       0.559\n",
    "\n",
    "// run 3\n",
    "// Class      recall        prec          f1\n"
   ]
  },
  {
   "cell_type": "code",
   "execution_count": null,
   "metadata": {},
   "outputs": [],
   "source": []
  },
  {
   "cell_type": "code",
   "execution_count": 16,
   "metadata": {},
   "outputs": [
    {
     "name": "stdout",
     "output_type": "stream",
     "text": [
      "Training Decision Tree took (00:00:03:998)\n"
     ]
    }
   ],
   "source": [
    "var cartModel = train(\"Decision Tree\", cart, trainingDataset);\n",
    "// run 1\n",
    "// time 5.43 s\n",
    "\n",
    "// run 2\n",
    "// time 5.19 s\n",
    "\n",
    "// run 3\n",
    "// time 4.00 s"
   ]
  },
  {
   "cell_type": "code",
   "execution_count": 17,
   "metadata": {},
   "outputs": [
    {
     "name": "stdout",
     "output_type": "stream",
     "text": [
      "Class                           n          tp          fn          fp      recall        prec          f1\n",
      "No                         21,889      19,604       2,285       3,168       0.896       0.861       0.878\n",
      "Yes                         6,269       3,101       3,168       2,285       0.495       0.576       0.532\n",
      "Total                      28,158      22,705       5,453       5,453\n",
      "Accuracy                                                                    0.806\n",
      "Micro Average                                                               0.806       0.806       0.806\n",
      "Macro Average                                                               0.695       0.718       0.705\n",
      "Balanced Error Rate                                                         0.305\n"
     ]
    }
   ],
   "source": [
    "evaluate(cartModel,testingDataset);\n",
    "\n",
    "// run 1\n",
    "// Class      recall        prec          f1\n",
    "//  No        0.896       0.861       0.878\n",
    "// Yes        0.495       0.576       0.532\n",
    "\n",
    "// run 2\n",
    "// Class      recall        prec          f1\n",
    "//  No        0.896       0.861       0.878\n",
    "// Yes        0.495       0.576       0.532\n",
    "\n",
    "// run 3\n",
    "// Class      recall        prec          f1\n",
    "//  No        0.896       0.861       0.878\n",
    "// Yes        0.495       0.576       0.532"
   ]
  },
  {
   "cell_type": "code",
   "execution_count": null,
   "metadata": {},
   "outputs": [],
   "source": []
  },
  {
   "cell_type": "code",
   "execution_count": 18,
   "metadata": {},
   "outputs": [
    {
     "name": "stdout",
     "output_type": "stream",
     "text": [
      "Training XGBoost took (00:01:21:134)\n"
     ]
    }
   ],
   "source": [
    "var xgbModel = train(\"XGBoost\", xgb, trainingDataset);\n",
    "// run 1\n",
    "// time 1min 25s \n",
    "\n",
    "// run 2\n",
    "// time 1min 18s\n",
    "\n",
    "// run 3\n",
    "// time 1min 21s"
   ]
  },
  {
   "cell_type": "code",
   "execution_count": 19,
   "metadata": {},
   "outputs": [
    {
     "name": "stdout",
     "output_type": "stream",
     "text": [
      "Class                           n          tp          fn          fp      recall        prec          f1\n",
      "No                         21,889      20,748       1,141       2,938       0.948       0.876       0.910\n",
      "Yes                         6,269       3,331       2,938       1,141       0.531       0.745       0.620\n",
      "Total                      28,158      24,079       4,079       4,079\n",
      "Accuracy                                                                    0.855\n",
      "Micro Average                                                               0.855       0.855       0.855\n",
      "Macro Average                                                               0.740       0.810       0.765\n",
      "Balanced Error Rate                                                         0.260\n"
     ]
    }
   ],
   "source": [
    "evaluate(xgbModel,testingDataset);\n",
    "\n",
    "// run 1\n",
    "// Class      recall        prec          f1\n",
    "//  No        0.948       0.876       0.910\n",
    "//  Yes       0.531       0.745       0.620\n",
    "\n",
    "// run 2\n",
    "// Class      recall        prec          f1\n",
    "//  No        0.948       0.876       0.910\n",
    "//  Yes       0.531       0.745       0.620\n",
    "\n",
    "// run 3\n",
    "// Class      recall        prec          f1\n",
    "//  No        0.948       0.876       0.910\n",
    "//  Yes       0.531       0.745       0.620"
   ]
  },
  {
   "cell_type": "code",
   "execution_count": null,
   "metadata": {},
   "outputs": [],
   "source": []
  }
 ],
 "metadata": {
  "kernelspec": {
   "display_name": "Java",
   "language": "java",
   "name": "java"
  },
  "language_info": {
   "codemirror_mode": "java",
   "file_extension": ".jshell",
   "mimetype": "text/x-java-source",
   "name": "Java",
   "pygments_lexer": "java",
   "version": "12.0.2+10"
  }
 },
 "nbformat": 4,
 "nbformat_minor": 4
}
