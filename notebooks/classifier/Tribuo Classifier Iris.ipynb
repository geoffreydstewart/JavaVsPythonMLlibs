{
 "cells": [
  {
   "cell_type": "markdown",
   "metadata": {},
   "source": [
    "## This simple classifier was used to make the initial comparison between scikit-learn and Tribuo"
   ]
  },
  {
   "cell_type": "code",
   "execution_count": 1,
   "metadata": {},
   "outputs": [],
   "source": [
    "%jars ./jars/tribuo-classification-experiments-4.1.0-jar-with-dependencies.jar\n",
    "%jars ./jars/tribuo-json-4.1.0-jar-with-dependencies.jar"
   ]
  },
  {
   "cell_type": "code",
   "execution_count": 2,
   "metadata": {},
   "outputs": [],
   "source": [
    "import java.nio.file.Paths;\n",
    "import java.nio.file.Files;"
   ]
  },
  {
   "cell_type": "code",
   "execution_count": 3,
   "metadata": {},
   "outputs": [],
   "source": [
    "import org.tribuo.*;\n",
    "import org.tribuo.evaluation.TrainTestSplitter;\n",
    "import org.tribuo.data.csv.CSVLoader;\n",
    "import org.tribuo.classification.*;\n",
    "import org.tribuo.classification.evaluation.*;\n",
    "import org.tribuo.classification.sgd.linear.LogisticRegressionTrainer;\n",
    "import org.tribuo.classification.sgd.linear.LinearSGDTrainer;\n",
    "import org.tribuo.classification.sgd.objectives.LogMulticlass;\n",
    "import org.tribuo.math.optimisers.AdaGrad;\n",
    "import org.tribuo.Trainer;"
   ]
  },
  {
   "cell_type": "code",
   "execution_count": 4,
   "metadata": {},
   "outputs": [],
   "source": [
    "import com.fasterxml.jackson.databind.*;\n",
    "import com.oracle.labs.mlrg.olcut.provenance.ProvenanceUtil;\n",
    "import com.oracle.labs.mlrg.olcut.config.json.*;"
   ]
  },
  {
   "cell_type": "code",
   "execution_count": 5,
   "metadata": {},
   "outputs": [],
   "source": [
    "var labelFactory = new LabelFactory();\n",
    "var csvLoader = new CSVLoader<>(labelFactory);"
   ]
  },
  {
   "cell_type": "code",
   "execution_count": 6,
   "metadata": {},
   "outputs": [],
   "source": [
    "// This is the classic Iris dataset\n",
    "var irisHeaders = new String[]{\"sepalLength\", \"sepalWidth\", \"petalLength\", \"petalWidth\", \"species\"};\n",
    "var irisesSource = csvLoader.loadDataSource(Paths.get(\"data/bezdekIris.data\"),\"species\",irisHeaders);\n",
    "var irisSplitter = new TrainTestSplitter<>(irisesSource,0.7,1L);"
   ]
  },
  {
   "cell_type": "code",
   "execution_count": 7,
   "metadata": {},
   "outputs": [
    {
     "name": "stdout",
     "output_type": "stream",
     "text": [
      "Training data size = 105, number of features = 4, number of classes = 3\n",
      "Testing data size = 45, number of features = 4, number of classes = 3\n"
     ]
    }
   ],
   "source": [
    "var trainingDataset = new MutableDataset<>(irisSplitter.getTrain());\n",
    "var testingDataset = new MutableDataset<>(irisSplitter.getTest());\n",
    "System.out.println(String.format(\"Training data size = %d, number of features = %d, number of classes = %d\",trainingDataset.size(),trainingDataset.getFeatureMap().size(),trainingDataset.getOutputInfo().size()));\n",
    "System.out.println(String.format(\"Testing data size = %d, number of features = %d, number of classes = %d\",testingDataset.size(),testingDataset.getFeatureMap().size(),testingDataset.getOutputInfo().size()));"
   ]
  },
  {
   "cell_type": "code",
   "execution_count": 8,
   "metadata": {},
   "outputs": [
    {
     "name": "stdout",
     "output_type": "stream",
     "text": [
      "LinearSGDTrainer(objective=LogMulticlass,optimiser=AdaGrad(initialLearningRate=1.0,epsilon=0.1,initialValue=0.0),epochs=1000,minibatchSize=1,seed=12345)\n"
     ]
    }
   ],
   "source": [
    "// Trainer<Label> lrTrainer = new LogisticRegressionTrainer();\n",
    "// System.out.println(lrTrainer.toString());\n",
    "Trainer<Label> sgdTrainer = new LinearSGDTrainer(new LogMulticlass(), new AdaGrad(1.0, 0.1), 1000, Trainer.DEFAULT_SEED);\n",
    "System.out.println(sgdTrainer.toString());"
   ]
  },
  {
   "cell_type": "code",
   "execution_count": 9,
   "metadata": {},
   "outputs": [],
   "source": [
    "// Model<Label> sgdModel = lrTrainer.train(trainingDataset);\n",
    "Model<Label> sgdModel = sgdTrainer.train(trainingDataset);"
   ]
  },
  {
   "cell_type": "code",
   "execution_count": 10,
   "metadata": {},
   "outputs": [
    {
     "name": "stdout",
     "output_type": "stream",
     "text": [
      "Class                           n          tp          fn          fp      recall        prec          f1\n",
      "Iris-versicolor                16          16           0           1       1.000       0.941       0.970\n",
      "Iris-virginica                 15          14           1           0       0.933       1.000       0.966\n",
      "Iris-setosa                    14          14           0           0       1.000       1.000       1.000\n",
      "Total                          45          44           1           1\n",
      "Accuracy                                                                    0.978\n",
      "Micro Average                                                               0.978       0.978       0.978\n",
      "Macro Average                                                               0.978       0.980       0.978\n",
      "Balanced Error Rate                                                         0.022\n"
     ]
    }
   ],
   "source": [
    "var evaluator = new LabelEvaluator();\n",
    "var evaluation = evaluator.evaluate(sgdModel,testingDataset);\n",
    "System.out.println(evaluation.toString());"
   ]
  },
  {
   "cell_type": "code",
   "execution_count": 11,
   "metadata": {},
   "outputs": [
    {
     "name": "stdout",
     "output_type": "stream",
     "text": [
      "                   Iris-versicolor   Iris-virginica      Iris-setosa\n",
      "Iris-versicolor                 16                0                0\n",
      "Iris-virginica                   1               14                0\n",
      "Iris-setosa                      0                0               14\n",
      "\n"
     ]
    }
   ],
   "source": [
    "System.out.println(evaluation.getConfusionMatrix().toString());"
   ]
  },
  {
   "cell_type": "code",
   "execution_count": null,
   "metadata": {},
   "outputs": [],
   "source": []
  }
 ],
 "metadata": {
  "kernelspec": {
   "display_name": "Java",
   "language": "java",
   "name": "java"
  },
  "language_info": {
   "codemirror_mode": "java",
   "file_extension": ".jshell",
   "mimetype": "text/x-java-source",
   "name": "Java",
   "pygments_lexer": "java",
   "version": "12.0.2+10"
  }
 },
 "nbformat": 4,
 "nbformat_minor": 4
}
