{
 "cells": [
  {
   "cell_type": "markdown",
   "metadata": {},
   "source": [
    "## This demonstrates scikit-learn clustering for comparison with Tribuo clustering"
   ]
  },
  {
   "cell_type": "code",
   "execution_count": 1,
   "metadata": {},
   "outputs": [],
   "source": [
    "import pandas as pd\n",
    "from sklearn.model_selection import train_test_split\n",
    "from sklearn.cluster import KMeans\n",
    "from sklearn.cluster import AgglomerativeClustering\n",
    "from sklearn.cluster import MeanShift\n",
    "from sklearn.cluster import DBSCAN\n",
    "from sklearn.metrics import adjusted_mutual_info_score\n",
    "from sklearn.metrics import normalized_mutual_info_score"
   ]
  },
  {
   "cell_type": "code",
   "execution_count": 2,
   "metadata": {},
   "outputs": [],
   "source": [
    "# This dataset is generated in the notebook: scikit-learn Clustering - Data Setup\n",
    "df = pd.read_csv('../../data/gaussianBlobs.csv')\n",
    "# print(df)"
   ]
  },
  {
   "cell_type": "code",
   "execution_count": 3,
   "metadata": {},
   "outputs": [
    {
     "name": "stdout",
     "output_type": "stream",
     "text": [
      "Training data size = 4800000, number of features = 5\n",
      "Testing data size = 1200000, number of features = 5\n"
     ]
    }
   ],
   "source": [
    "df_X = df.drop(['Cluster'], axis=1)\n",
    "df_y = pd.DataFrame(df[['Cluster']])\n",
    "\n",
    "X_train, X_test, y_train, y_test = train_test_split(df_X.values, df_y.values, test_size=0.2, random_state=1)\n",
    "print('Training data size = %d, number of features = %d' % (len(X_train), len(df_X.columns)))\n",
    "print('Testing data size = %d, number of features = %d' % (len(X_test), len(df_X.columns)))"
   ]
  },
  {
   "cell_type": "code",
   "execution_count": 4,
   "metadata": {},
   "outputs": [],
   "source": [
    "def evaluate(actual, predicted):\n",
    "    print('Clustering Evaluation')\n",
    "    print('Normalized MI = %.2f' % normalized_mutual_info_score(actual, predicted))\n",
    "    print('Adjusted MI = %.2f' % adjusted_mutual_info_score(actual, predicted))"
   ]
  },
  {
   "cell_type": "code",
   "execution_count": 5,
   "metadata": {},
   "outputs": [],
   "source": [
    "km = KMeans(n_clusters=6, max_iter=100, n_jobs=4, random_state=1, init='random')\n",
    "km_plus_plus = KMeans(n_clusters=6, max_iter=100, n_jobs=4, random_state=1, init='k-means++')\n",
    "# This crashes the kernel everytime\n",
    "# ag = AgglomerativeClustering(n_clusters=6)\n",
    "# This doesn't finish after a reasonable amount of time\n",
    "# ms = MeanShift(n_jobs=4)\n",
    "# This also crashes the kernel everytime\n",
    "# dbscan = DBSCAN(eps=3, min_samples=50, n_jobs=4)"
   ]
  },
  {
   "cell_type": "code",
   "execution_count": 6,
   "metadata": {},
   "outputs": [
    {
     "name": "stdout",
     "output_type": "stream",
     "text": [
      "KMeans(init='random', max_iter=100, n_clusters=6, n_jobs=4, random_state=1)\n",
      "KMeans(max_iter=100, n_clusters=6, n_jobs=4, random_state=1)\n"
     ]
    }
   ],
   "source": [
    "print(km)\n",
    "print(km_plus_plus)\n",
    "# print(ag)\n",
    "# print(ms)\n",
    "# print(dbscan)"
   ]
  },
  {
   "cell_type": "code",
   "execution_count": null,
   "metadata": {},
   "outputs": [],
   "source": []
  },
  {
   "cell_type": "code",
   "execution_count": 7,
   "metadata": {},
   "outputs": [
    {
     "name": "stderr",
     "output_type": "stream",
     "text": [
      "/usr/local/lib/python3.9/site-packages/sklearn/cluster/_kmeans.py:792: FutureWarning: 'n_jobs' was deprecated in version 0.23 and will be removed in 1.0 (renaming of 0.25).\n",
      "  warnings.warn(\"'n_jobs' was deprecated in version 0.23 and will be\"\n"
     ]
    },
    {
     "name": "stdout",
     "output_type": "stream",
     "text": [
      "CPU times: user 41.5 s, sys: 1.52 s, total: 43.1 s\n",
      "Wall time: 16 s\n"
     ]
    },
    {
     "data": {
      "text/plain": [
       "KMeans(init='random', max_iter=100, n_clusters=6, n_jobs=4, random_state=1)"
      ]
     },
     "execution_count": 7,
     "metadata": {},
     "output_type": "execute_result"
    }
   ],
   "source": [
    "%time km.fit(X_train)\n",
    "# run 1\n",
    "# time:  17.4 s\n",
    "\n",
    "# run 2\n",
    "# time:  17.7 s\n",
    "\n",
    "# run 3\n",
    "# time:  16.0 s"
   ]
  },
  {
   "cell_type": "code",
   "execution_count": 8,
   "metadata": {},
   "outputs": [
    {
     "name": "stdout",
     "output_type": "stream",
     "text": [
      "Clustering Evaluation\n",
      "Normalized MI = 1.00\n",
      "Adjusted MI = 1.00\n"
     ]
    }
   ],
   "source": [
    "predicted = km.predict(X_test)\n",
    "evaluate(y_test.ravel(), predicted)\n",
    "# run 1\n",
    "# Normalized MI = 1.00\n",
    "# Adjusted MI = 1.00\n",
    "\n",
    "# run 2\n",
    "# Normalized MI = 1.00\n",
    "# Adjusted MI = 1.00\n",
    "\n",
    "# run 3\n",
    "# Normalized MI = 1.00\n",
    "# Adjusted MI = 1.00"
   ]
  },
  {
   "cell_type": "code",
   "execution_count": null,
   "metadata": {},
   "outputs": [],
   "source": []
  },
  {
   "cell_type": "code",
   "execution_count": 9,
   "metadata": {},
   "outputs": [
    {
     "name": "stderr",
     "output_type": "stream",
     "text": [
      "/usr/local/lib/python3.9/site-packages/sklearn/cluster/_kmeans.py:792: FutureWarning: 'n_jobs' was deprecated in version 0.23 and will be removed in 1.0 (renaming of 0.25).\n",
      "  warnings.warn(\"'n_jobs' was deprecated in version 0.23 and will be\"\n"
     ]
    },
    {
     "name": "stdout",
     "output_type": "stream",
     "text": [
      "CPU times: user 33.3 s, sys: 3.03 s, total: 36.3 s\n",
      "Wall time: 17.9 s\n"
     ]
    },
    {
     "data": {
      "text/plain": [
       "KMeans(max_iter=100, n_clusters=6, n_jobs=4, random_state=1)"
      ]
     },
     "execution_count": 9,
     "metadata": {},
     "output_type": "execute_result"
    }
   ],
   "source": [
    "%time km_plus_plus.fit(X_train)\n",
    "# run 1\n",
    "# time:  19.2 s\n",
    "\n",
    "# run 2\n",
    "# time:  18.6 s\n",
    "\n",
    "# run 3\n",
    "# time:  17.9 s"
   ]
  },
  {
   "cell_type": "code",
   "execution_count": 10,
   "metadata": {},
   "outputs": [
    {
     "name": "stdout",
     "output_type": "stream",
     "text": [
      "Clustering Evaluation\n",
      "Normalized MI = 1.00\n",
      "Adjusted MI = 1.00\n"
     ]
    }
   ],
   "source": [
    "predicted = km_plus_plus.predict(X_test)\n",
    "evaluate(y_test.ravel(), predicted)\n",
    "\n",
    "# run 1\n",
    "# Normalized MI = 1.00\n",
    "# Adjusted MI = 1.00\n",
    "\n",
    "# run 2\n",
    "# Normalized MI = 1.00\n",
    "# Adjusted MI = 1.00\n",
    "\n",
    "# run 3\n",
    "# Normalized MI = 1.00\n",
    "# Adjusted MI = 1.00"
   ]
  },
  {
   "cell_type": "code",
   "execution_count": null,
   "metadata": {},
   "outputs": [],
   "source": []
  },
  {
   "cell_type": "code",
   "execution_count": 11,
   "metadata": {},
   "outputs": [],
   "source": [
    "# %time ag.fit(X_train)"
   ]
  },
  {
   "cell_type": "code",
   "execution_count": 12,
   "metadata": {},
   "outputs": [],
   "source": [
    "# predicted = ag.predict(X_test)\n",
    "# evaluate(y_test.ravel(), predicted)"
   ]
  },
  {
   "cell_type": "code",
   "execution_count": null,
   "metadata": {},
   "outputs": [],
   "source": []
  },
  {
   "cell_type": "code",
   "execution_count": 13,
   "metadata": {},
   "outputs": [],
   "source": [
    "# %time ms.fit(X_train)"
   ]
  },
  {
   "cell_type": "code",
   "execution_count": 14,
   "metadata": {},
   "outputs": [],
   "source": [
    "# predicted = ms.predict(X_test)\n",
    "# evaluate(y_test.ravel(), predicted)"
   ]
  },
  {
   "cell_type": "code",
   "execution_count": null,
   "metadata": {},
   "outputs": [],
   "source": []
  },
  {
   "cell_type": "code",
   "execution_count": 15,
   "metadata": {},
   "outputs": [],
   "source": [
    "# %time dbscan.fit(X_train)"
   ]
  },
  {
   "cell_type": "code",
   "execution_count": 16,
   "metadata": {},
   "outputs": [],
   "source": [
    "# predicted = dbscan.predict(X_test)\n",
    "# evaluate(y_test.ravel(), predicted)"
   ]
  }
 ],
 "metadata": {
  "kernelspec": {
   "display_name": "Python 3",
   "language": "python",
   "name": "python3"
  },
  "language_info": {
   "codemirror_mode": {
    "name": "ipython",
    "version": 3
   },
   "file_extension": ".py",
   "mimetype": "text/x-python",
   "name": "python",
   "nbconvert_exporter": "python",
   "pygments_lexer": "ipython3",
   "version": "3.9.1"
  }
 },
 "nbformat": 4,
 "nbformat_minor": 4
}
