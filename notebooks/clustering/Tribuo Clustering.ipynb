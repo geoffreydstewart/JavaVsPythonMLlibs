{
 "cells": [
  {
   "cell_type": "markdown",
   "metadata": {},
   "source": [
    "## This demonstrates Tribuo clustering for comparison with scikit-learn clustering"
   ]
  },
  {
   "cell_type": "code",
   "execution_count": 1,
   "metadata": {},
   "outputs": [],
   "source": [
    "%jars ../../jars/tribuo-clustering-kmeans-4.1.0-jar-with-dependencies.jar\n",
    "%jars ../../jars/tribuo-json-4.1.0-jar-with-dependencies.jar"
   ]
  },
  {
   "cell_type": "code",
   "execution_count": 2,
   "metadata": {},
   "outputs": [],
   "source": [
    "import java.nio.file.Paths;\n",
    "import java.nio.file.Files;\n",
    "import java.util.logging.Level;\n",
    "import java.util.logging.Logger;"
   ]
  },
  {
   "cell_type": "code",
   "execution_count": 3,
   "metadata": {},
   "outputs": [],
   "source": [
    "import org.tribuo.*;\n",
    "import org.tribuo.evaluation.TrainTestSplitter;\n",
    "import org.tribuo.data.csv.CSVLoader;\n",
    "import org.tribuo.util.Util;\n",
    "import org.tribuo.clustering.*;\n",
    "import org.tribuo.clustering.evaluation.*;\n",
    "import org.tribuo.clustering.kmeans.*;\n",
    "import org.tribuo.clustering.kmeans.KMeansTrainer.Distance;\n",
    "import org.tribuo.clustering.kmeans.KMeansTrainer.Initialisation;"
   ]
  },
  {
   "cell_type": "code",
   "execution_count": 4,
   "metadata": {},
   "outputs": [],
   "source": [
    "var clusteringFactory = new ClusteringFactory();\n",
    "var csvLoader = new CSVLoader<>(clusteringFactory);"
   ]
  },
  {
   "cell_type": "code",
   "execution_count": 5,
   "metadata": {},
   "outputs": [
    {
     "name": "stdout",
     "output_type": "stream",
     "text": [
      "Loading took (00:01:04:321)\n",
      "Splitting took (00:00:06:125)\n",
      "Training data size = 4800000, number of features = 5\n",
      "Testing data size = 1200000, number of features = 5\n"
     ]
    }
   ],
   "source": [
    "var startTime = System.currentTimeMillis();\n",
    "// This dataset is generated in the notebook: scikit-learn Clustering - Data Setup\n",
    "var gaussianSource = csvLoader.loadDataSource(Paths.get(\"../../data/gaussianBlobs.csv\"), \"Cluster\");\n",
    "var endTime = System.currentTimeMillis();\n",
    "System.out.println(\"Loading took \" + Util.formatDuration(startTime,endTime));\n",
    "var startTime = System.currentTimeMillis();\n",
    "var splitter = new TrainTestSplitter<>(gaussianSource, 0.8f, 0L);\n",
    "var endTime = System.currentTimeMillis();\n",
    "System.out.println(\"Splitting took \" + Util.formatDuration(startTime,endTime));\n",
    "\n",
    "Dataset<ClusterID> trainData = new MutableDataset<>(splitter.getTrain());\n",
    "Dataset<ClusterID> evalData = new MutableDataset<>(splitter.getTest());\n",
    "\n",
    "System.out.println(String.format(\"Training data size = %d, number of features = %d\",trainData.size(),trainData.getFeatureMap().size()));\n",
    "System.out.println(String.format(\"Testing data size = %d, number of features = %d\",evalData.size(),evalData.getFeatureMap().size()));\n"
   ]
  },
  {
   "cell_type": "code",
   "execution_count": 6,
   "metadata": {},
   "outputs": [],
   "source": [
    "// Note: the types including generics were tricky to get working\n",
    "public Model train(String name, Trainer trainer, Dataset<ClusterID> trainData) { \n",
    "    // Train the model\n",
    "    var startTime = System.currentTimeMillis();\n",
    "    var model = trainer.train(trainData);\n",
    "    var endTime = System.currentTimeMillis();\n",
    "    System.out.println(\"Training \" + name + \" took \" + Util.formatDuration(startTime,endTime));\n",
    "    // Don't report training scores for now\n",
    "    // var eval = new ClusteringEvaluator();\n",
    "    // var evaluation = eval.evaluate(model,trainData);\n",
    "    // System.out.println(evaluation.toString());\n",
    "    //System.out.println(evaluation.getConfusionMatrix().toString());\n",
    "    return model;\n",
    "}"
   ]
  },
  {
   "cell_type": "code",
   "execution_count": 7,
   "metadata": {},
   "outputs": [],
   "source": [
    "public void evaluate(Model model, Dataset<ClusterID> testData) {\n",
    "    // Evaluate the model on the test data\n",
    "    var eval = new ClusteringEvaluator();\n",
    "    var evaluation = eval.evaluate(model,testData);\n",
    "    System.out.println(evaluation.toString());\n",
    "    //System.out.println(evaluation.getConfusionMatrix().toString());\n",
    "}"
   ]
  },
  {
   "cell_type": "code",
   "execution_count": 8,
   "metadata": {},
   "outputs": [],
   "source": [
    "var kmTrainer = new KMeansTrainer(6,100,Distance.EUCLIDEAN,4,1);\n",
    "var kmPlusPlusTrainer = new KMeansTrainer(6,100,Distance.EUCLIDEAN,Initialisation.PLUSPLUS,4,1);"
   ]
  },
  {
   "cell_type": "code",
   "execution_count": 9,
   "metadata": {},
   "outputs": [
    {
     "name": "stdout",
     "output_type": "stream",
     "text": [
      "KMeansTrainer(centroids=6,distanceType=EUCLIDEAN,seed=1,numThreads=4)\n",
      "KMeansTrainer(centroids=6,distanceType=EUCLIDEAN,seed=1,numThreads=4)\n"
     ]
    }
   ],
   "source": [
    "System.out.println(kmTrainer.toString());\n",
    "System.out.println(kmPlusPlusTrainer.toString());"
   ]
  },
  {
   "cell_type": "code",
   "execution_count": null,
   "metadata": {},
   "outputs": [],
   "source": []
  },
  {
   "cell_type": "code",
   "execution_count": 10,
   "metadata": {},
   "outputs": [
    {
     "name": "stdout",
     "output_type": "stream",
     "text": [
      "Training KMeans took (00:02:42:972)\n"
     ]
    }
   ],
   "source": [
    "var kmModel = train(\"KMeans\", kmTrainer, trainData);\n",
    "// run 1\n",
    "// time 2min 43s\n",
    "\n",
    "// run 2\n",
    "// time \n",
    "\n",
    "// run 3\n",
    "// time "
   ]
  },
  {
   "cell_type": "code",
   "execution_count": 11,
   "metadata": {},
   "outputs": [
    {
     "name": "stdout",
     "output_type": "stream",
     "text": [
      "Clustering Evaluation\n",
      "Normalized MI = 0.8790240537433484\n",
      "Adjusted MI = 0.8790234761754055\n"
     ]
    }
   ],
   "source": [
    "evaluate(kmModel, evalData);\n",
    "// run 1\n",
    "//\n",
    "\n",
    "// run 2\n",
    "//\n",
    "\n",
    "// run 3\n",
    "//"
   ]
  },
  {
   "cell_type": "code",
   "execution_count": null,
   "metadata": {},
   "outputs": [],
   "source": []
  },
  {
   "cell_type": "code",
   "execution_count": 12,
   "metadata": {},
   "outputs": [
    {
     "name": "stdout",
     "output_type": "stream",
     "text": [
      "Training KMeans took (00:00:11:932)\n"
     ]
    }
   ],
   "source": [
    "var kmPlusPlusModel = train(\"KMeans\", kmPlusPlusTrainer, trainData);\n",
    "// run 1\n",
    "// time 11.93s\n",
    "\n",
    "// run 2\n",
    "// time \n",
    "\n",
    "// run 3\n",
    "// time "
   ]
  },
  {
   "cell_type": "code",
   "execution_count": 13,
   "metadata": {},
   "outputs": [
    {
     "name": "stdout",
     "output_type": "stream",
     "text": [
      "Clustering Evaluation\n",
      "Normalized MI = 0.9998518616970554\n",
      "Adjusted MI = 0.9998518611000934\n"
     ]
    }
   ],
   "source": [
    "evaluate(kmPlusPlusModel, evalData);\n",
    "// run 1\n",
    "//\n",
    "\n",
    "// run 2\n",
    "//\n",
    "\n",
    "// run 3\n",
    "//"
   ]
  },
  {
   "cell_type": "code",
   "execution_count": null,
   "metadata": {},
   "outputs": [],
   "source": []
  }
 ],
 "metadata": {
  "kernelspec": {
   "display_name": "Java",
   "language": "java",
   "name": "java"
  },
  "language_info": {
   "codemirror_mode": "java",
   "file_extension": ".jshell",
   "mimetype": "text/x-java-source",
   "name": "Java",
   "pygments_lexer": "java",
   "version": "12.0.2+10"
  }
 },
 "nbformat": 4,
 "nbformat_minor": 4
}
